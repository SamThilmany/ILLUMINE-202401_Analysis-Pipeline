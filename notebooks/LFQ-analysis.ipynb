{
 "cells": [
  {
   "cell_type": "markdown",
   "metadata": {},
   "source": [
    "# Analyzing LFQ data of cell culture protein extracts"
   ]
  },
  {
   "cell_type": "markdown",
   "metadata": {},
   "source": [
    "## Preparation for Analysis"
   ]
  },
  {
   "cell_type": "markdown",
   "metadata": {},
   "source": [
    "### Load Data"
   ]
  },
  {
   "cell_type": "code",
   "execution_count": null,
   "metadata": {
    "vscode": {
     "languageId": "r"
    }
   },
   "outputs": [],
   "source": [
    "source(\"../classes/data_loader.R\")\n",
    "source(\"../utils/data.R\")"
   ]
  },
  {
   "cell_type": "markdown",
   "metadata": {},
   "source": [
    "### Local Settings"
   ]
  },
  {
   "cell_type": "code",
   "execution_count": null,
   "metadata": {
    "vscode": {
     "languageId": "r"
    }
   },
   "outputs": [],
   "source": [
    "create_directory <- function(path) {\n",
    "  if (dir.exists(path)) {\n",
    "    warning(sprintf(\"Deleting %s\", path))\n",
    "    unlink(path, recursive = TRUE)\n",
    "  }\n",
    "\n",
    "  warning(sprintf(\"Creating %s\", path))\n",
    "  dir.create(path, recursive = TRUE)\n",
    "  file.create(file.path(path, \".gitkeep\"))\n",
    "}"
   ]
  },
  {
   "cell_type": "code",
   "execution_count": null,
   "metadata": {
    "vscode": {
     "languageId": "r"
    }
   },
   "outputs": [],
   "source": [
    "technical_analysis_directory <- \"../results/lfq/technical-analysis/\"\n",
    "biological_analysis_directory <- \"../results/lfq/biological-analysis/\"\n",
    "\n",
    "create_directory(technical_analysis_directory)\n",
    "create_directory(biological_analysis_directory)"
   ]
  },
  {
   "cell_type": "markdown",
   "metadata": {},
   "source": [
    "## Technical Analysis"
   ]
  },
  {
   "cell_type": "markdown",
   "metadata": {},
   "source": [
    "### Features"
   ]
  },
  {
   "cell_type": "code",
   "execution_count": null,
   "metadata": {
    "vscode": {
     "languageId": "r"
    }
   },
   "outputs": [],
   "source": [
    "source(\"../classes/feature_identification.R\")\n",
    "\n",
    "feature_identification <- new(\"FeatureIdentification\",\n",
    "  a_name = \"Sequest HT\",\n",
    "  ms2_data_frame_a = data@lfqSequestHT_ms2,\n",
    "  psm_data_frame_a = data@lfqSequestHT_psms,\n",
    "  protein_data_frame_a = data@lfqSequestHT_proteins,\n",
    "  protein_data_frame_a_complete = data@lfqSequestHT_proteins_complete,\n",
    "  b_name = \"CHIMERYS\",\n",
    "  ms2_data_frame_b = data@lfqChimerys_ms2,\n",
    "  psm_data_frame_b = data@lfqChimerys_psms,\n",
    "  protein_data_frame_b = data@lfqChimerys_proteins,\n",
    "  protein_data_frame_b_complete = data@lfqChimerys_proteins_complete\n",
    ")"
   ]
  },
  {
   "cell_type": "code",
   "execution_count": null,
   "metadata": {
    "vscode": {
     "languageId": "r"
    }
   },
   "outputs": [],
   "source": [
    "plotFeatures(feature_identification, directory = technical_analysis_directory)"
   ]
  },
  {
   "cell_type": "code",
   "execution_count": null,
   "metadata": {
    "vscode": {
     "languageId": "r"
    }
   },
   "outputs": [],
   "source": [
    "plotIdRate(feature_identification, directory = technical_analysis_directory)"
   ]
  },
  {
   "cell_type": "code",
   "execution_count": null,
   "metadata": {
    "vscode": {
     "languageId": "r"
    }
   },
   "outputs": [],
   "source": [
    "plotIdRate(feature_identification, plot_mode = \"relative\", directory = technical_analysis_directory)"
   ]
  },
  {
   "cell_type": "markdown",
   "metadata": {},
   "source": [
    "### Mass Accuracy"
   ]
  },
  {
   "cell_type": "code",
   "execution_count": null,
   "metadata": {
    "vscode": {
     "languageId": "r"
    }
   },
   "outputs": [],
   "source": [
    "source(\"../classes/mass_accuracy.R\")\n",
    "\n",
    "mass_accuracy <- new(\"MassAccuracy\", psm_data_frame = data@lfqSequestHT_psms)"
   ]
  },
  {
   "cell_type": "code",
   "execution_count": null,
   "metadata": {
    "vscode": {
     "languageId": "r"
    }
   },
   "outputs": [],
   "source": [
    "plotViolin(mass_accuracy, directory = technical_analysis_directory)"
   ]
  },
  {
   "cell_type": "code",
   "execution_count": null,
   "metadata": {
    "vscode": {
     "languageId": "r"
    }
   },
   "outputs": [],
   "source": [
    "plotDensity(mass_accuracy, directory = technical_analysis_directory)"
   ]
  },
  {
   "cell_type": "code",
   "execution_count": null,
   "metadata": {
    "vscode": {
     "languageId": "r"
    }
   },
   "outputs": [],
   "source": [
    "plotScatter(mass_accuracy, directory = technical_analysis_directory)"
   ]
  },
  {
   "cell_type": "markdown",
   "metadata": {},
   "source": [
    "### Ion Injection Time"
   ]
  },
  {
   "cell_type": "code",
   "execution_count": null,
   "metadata": {
    "vscode": {
     "languageId": "r"
    }
   },
   "outputs": [],
   "source": [
    "source(\"../classes/ion_inject_time.R\")\n",
    "\n",
    "ion_inject_time <- new(\"IonInjectTime\", ms2_scans = data@lfqSequestHT_ms2)"
   ]
  },
  {
   "cell_type": "code",
   "execution_count": null,
   "metadata": {
    "vscode": {
     "languageId": "r"
    }
   },
   "outputs": [],
   "source": [
    "plot(ion_inject_time, directory = technical_analysis_directory)"
   ]
  },
  {
   "cell_type": "markdown",
   "metadata": {},
   "source": [
    "### AGC Fill State"
   ]
  },
  {
   "cell_type": "code",
   "execution_count": null,
   "metadata": {
    "vscode": {
     "languageId": "r"
    }
   },
   "outputs": [],
   "source": [
    "source(\"../classes/agc_fill.R\")\n",
    "\n",
    "agc_fill <- new(\"AgcFill\", raw_files_path_list = data@lfqRawDataPaths, ms2_scans = data@lfqSequestHT_ms2)"
   ]
  },
  {
   "cell_type": "code",
   "execution_count": null,
   "metadata": {
    "vscode": {
     "languageId": "r"
    }
   },
   "outputs": [],
   "source": [
    "plot(agc_fill, directory = technical_analysis_directory)"
   ]
  },
  {
   "cell_type": "markdown",
   "metadata": {},
   "source": [
    "### Missing Data"
   ]
  },
  {
   "cell_type": "code",
   "execution_count": null,
   "metadata": {
    "vscode": {
     "languageId": "r"
    }
   },
   "outputs": [],
   "source": [
    "source(\"../classes/missing_data.R\")\n",
    "\n",
    "missing_data_sequest <- new(\"MissingData\", data_frame = data@lfqSequestHT_psms)\n",
    "missing_data_chimerys <- new(\"MissingData\", data_frame = data@lfqChimerys_psms)"
   ]
  },
  {
   "cell_type": "code",
   "execution_count": null,
   "metadata": {
    "vscode": {
     "languageId": "r"
    }
   },
   "outputs": [],
   "source": [
    "plotByFile(missing_data_sequest, directory = technical_analysis_directory, node_name = \"Sequest HT\", node_slug = \"sequest\")\n",
    "round(summary(missing_data_sequest@missingValues_file_df$missing_values_rel), 1)"
   ]
  },
  {
   "cell_type": "code",
   "execution_count": null,
   "metadata": {
    "vscode": {
     "languageId": "r"
    }
   },
   "outputs": [],
   "source": [
    "plotByFile(missing_data_chimerys, directory = technical_analysis_directory, node_name = \"CHIMERYS\", node_slug = \"chimerys\")\n",
    "round(summary(missing_data_chimerys@missingValues_file_df$missing_values_rel), 1)"
   ]
  },
  {
   "cell_type": "markdown",
   "metadata": {},
   "source": [
    "### Coefficient of Variance"
   ]
  },
  {
   "cell_type": "code",
   "execution_count": null,
   "metadata": {
    "vscode": {
     "languageId": "r"
    }
   },
   "outputs": [],
   "source": [
    "source(\"../classes/coefficient_of_variance.R\")\n",
    "\n",
    "protein_cv_sequest <- new(\"CoefficientOfVariance\", protein_df = data@lfqSequestHT_proteins_complete)\n",
    "protein_cv_chimerys <- new(\"CoefficientOfVariance\", protein_df = data@lfqChimerys_proteins_complete)"
   ]
  },
  {
   "cell_type": "code",
   "execution_count": null,
   "metadata": {
    "vscode": {
     "languageId": "r"
    }
   },
   "outputs": [],
   "source": [
    "plotCV(protein_cv_sequest, directory = technical_analysis_directory, node_name = \"Sequest HT\", node_slug = \"sequest\")\n",
    "round(summary(protein_cv_sequest@protein_df$CV), 1)"
   ]
  },
  {
   "cell_type": "code",
   "execution_count": null,
   "metadata": {
    "vscode": {
     "languageId": "r"
    }
   },
   "outputs": [],
   "source": [
    "plotCV(protein_cv_chimerys, directory = technical_analysis_directory, node_name = \"CHIMERYS\", node_slug = \"chimerys\")\n",
    "round(summary(protein_cv_chimerys@protein_df$CV), 1)"
   ]
  },
  {
   "cell_type": "markdown",
   "metadata": {},
   "source": [
    "## Biological Analysis"
   ]
  },
  {
   "cell_type": "code",
   "execution_count": null,
   "metadata": {
    "scrolled": true,
    "vscode": {
     "languageId": "r"
    }
   },
   "outputs": [],
   "source": [
    "source(\"../classes/treatment_ratios.R\")\n",
    "\n",
    "treatment_ratios_sequest <- new(\"TreatmentRatios\", protein_df = data@lfqSequestHT_proteins_complete, gene_disease_associations = data@geneDiseaseAssociations)\n",
    "treatment_ratios_chimerys <- new(\"TreatmentRatios\", protein_df = data@lfqChimerys_proteins_complete, gene_disease_associations = data@geneDiseaseAssociations)"
   ]
  },
  {
   "cell_type": "code",
   "execution_count": null,
   "metadata": {
    "vscode": {
     "languageId": "r"
    }
   },
   "outputs": [],
   "source": [
    "printStats(treatment_ratios_sequest, node_name = \"Sequest HT\")"
   ]
  },
  {
   "cell_type": "code",
   "execution_count": null,
   "metadata": {
    "vscode": {
     "languageId": "r"
    }
   },
   "outputs": [],
   "source": [
    "printStats(treatment_ratios_chimerys, node_name = \"CHIMERYS\")"
   ]
  },
  {
   "cell_type": "markdown",
   "metadata": {},
   "source": [
    "### Volcano Plots"
   ]
  },
  {
   "cell_type": "code",
   "execution_count": null,
   "metadata": {
    "vscode": {
     "languageId": "r"
    }
   },
   "outputs": [],
   "source": [
    "plotVolcanos(treatment_ratios_chimerys, directory = biological_analysis_directory, node_name = \"Sequest HT\", node_slug = \"sequest\", show_labels = FALSE, match_gene_list = FALSE)\n",
    "plotVolcanos(treatment_ratios_sequest, directory = biological_analysis_directory, node_name = \"Sequest HT\", node_slug = \"sequest\", show_labels = TRUE, match_gene_list = FALSE)\n",
    "plotVolcanos(treatment_ratios_sequest, directory = biological_analysis_directory, node_name = \"Sequest HT\", node_slug = \"sequest\", show_labels = TRUE, match_gene_list = TRUE)"
   ]
  },
  {
   "cell_type": "code",
   "execution_count": null,
   "metadata": {
    "scrolled": true,
    "vscode": {
     "languageId": "r"
    }
   },
   "outputs": [],
   "source": [
    "plotVolcanos(treatment_ratios_chimerys, directory = biological_analysis_directory, node_name = \"CHIMERYS\", node_slug = \"chimerys\", show_labels = FALSE, match_gene_list = FALSE)\n",
    "plotVolcanos(treatment_ratios_chimerys, directory = biological_analysis_directory, node_name = \"CHIMERYS\", node_slug = \"chimerys\", show_labels = TRUE, match_gene_list = FALSE)\n",
    "plotVolcanos(treatment_ratios_chimerys, directory = biological_analysis_directory, node_name = \"CHIMERYS\", node_slug = \"chimerys\", show_labels = TRUE, match_gene_list = TRUE)"
   ]
  },
  {
   "cell_type": "markdown",
   "metadata": {},
   "source": [
    "### Geno Ontology Analysis"
   ]
  },
  {
   "cell_type": "code",
   "execution_count": null,
   "metadata": {
    "vscode": {
     "languageId": "r"
    }
   },
   "outputs": [],
   "source": [
    "source(\"../classes/go_analysis_single.R\")"
   ]
  },
  {
   "cell_type": "code",
   "execution_count": null,
   "metadata": {
    "scrolled": true,
    "vscode": {
     "languageId": "r"
    }
   },
   "outputs": [],
   "source": [
    "ratios <- unique(treatment_ratios_sequest@ratio_df_consistent$Comparison)\n",
    "\n",
    "for (ratio in ratios) {\n",
    "  df <- treatment_ratios_sequest@ratio_df_consistent %>% filter(Comparison == ratio)\n",
    "\n",
    "  treatment <- unique(df$Treatment)\n",
    "  control <- unique(df$Control)\n",
    "  regulation <- \"up\"\n",
    "  ontology <- \"BP\"\n",
    "\n",
    "  if (treatment %in% c(\"CTRL\", \"DMSO\")) next\n",
    "  if (control == \"CTRL\") next\n",
    "\n",
    "  go_enrichment <- new(\n",
    "    \"GoAnalysisSingle\",\n",
    "    inherit = treatment_ratios_sequest,\n",
    "    ratio = ratio,\n",
    "    regulation = regulation,\n",
    "    ontology = ontology\n",
    "  )\n",
    "\n",
    "  if (is.null(go_enrichment@enrichment) || nrow(as.data.frame(go_enrichment@enrichment)) == 0) next\n",
    "\n",
    "  plotGO(\n",
    "    go_enrichment,\n",
    "    directory = biological_analysis_directory,\n",
    "    ontology = ontology,\n",
    "    regulation = regulation,\n",
    "    treatment = treatment,\n",
    "    control = control,\n",
    "    node_name = \"Sequest HT\",\n",
    "    node_slug = \"sequest\"\n",
    "  )\n",
    "}\n",
    "\n",
    "for (ratio in ratios) {\n",
    "  df <- treatment_ratios_sequest@ratio_df_consistent %>% filter(Comparison == ratio)\n",
    "\n",
    "  treatment <- unique(df$Treatment)\n",
    "  control <- unique(df$Control)\n",
    "  regulation <- \"down\"\n",
    "  ontology <- \"BP\"\n",
    "\n",
    "  if (treatment %in% c(\"CTRL\", \"DMSO\")) next\n",
    "  if (control == \"CTRL\") next\n",
    "\n",
    "  go_enrichment <- new(\n",
    "    \"GoAnalysisSingle\",\n",
    "    inherit = treatment_ratios_sequest,\n",
    "    ratio = ratio,\n",
    "    regulation = regulation,\n",
    "    ontology = ontology\n",
    "  )\n",
    "\n",
    "  if (is.null(go_enrichment@enrichment) || nrow(as.data.frame(go_enrichment@enrichment)) == 0) next\n",
    "\n",
    "  plotGO(\n",
    "    go_enrichment,\n",
    "    directory = biological_analysis_directory,\n",
    "    ontology = ontology,\n",
    "    regulation = regulation,\n",
    "    treatment = treatment,\n",
    "    control = control,\n",
    "    node_name = \"Sequest HT\",\n",
    "    node_slug = \"sequest\"\n",
    "  )\n",
    "}"
   ]
  },
  {
   "cell_type": "code",
   "execution_count": null,
   "metadata": {
    "scrolled": true,
    "vscode": {
     "languageId": "r"
    }
   },
   "outputs": [],
   "source": [
    "ratios <- unique(treatment_ratios_chimerys@ratio_df_consistent$Comparison)\n",
    "\n",
    "for (ratio in ratios) {\n",
    "  df <- treatment_ratios_chimerys@ratio_df_consistent %>% filter(Comparison == ratio)\n",
    "\n",
    "  treatment <- unique(df$Treatment)\n",
    "  control <- unique(df$Control)\n",
    "  regulation <- \"up\"\n",
    "  ontology <- \"BP\"\n",
    "\n",
    "  if (treatment %in% c(\"CTRL\", \"DMSO\")) next\n",
    "  if (control == \"CTRL\") next\n",
    "\n",
    "  go_enrichment <- new(\n",
    "    \"GoAnalysisSingle\",\n",
    "    inherit = treatment_ratios_chimerys,\n",
    "    ratio = ratio,\n",
    "    regulation = regulation,\n",
    "    ontology = ontology\n",
    "  )\n",
    "\n",
    "  if (is.null(go_enrichment@enrichment) || nrow(as.data.frame(go_enrichment@enrichment)) == 0) next\n",
    "\n",
    "  plotGO(\n",
    "    go_enrichment,\n",
    "    directory = biological_analysis_directory,\n",
    "    ontology = ontology,\n",
    "    regulation = regulation,\n",
    "    treatment = treatment,\n",
    "    control = control,\n",
    "    node_name = \"CHIMERYS\",\n",
    "    node_slug = \"chimerys\"\n",
    "  )\n",
    "}\n",
    "\n",
    "for (ratio in ratios) {\n",
    "  df <- treatment_ratios_chimerys@ratio_df_consistent %>% filter(Comparison == ratio)\n",
    "\n",
    "  treatment <- unique(df$Treatment)\n",
    "  control <- unique(df$Control)\n",
    "  regulation <- \"down\"\n",
    "  ontology <- \"BP\"\n",
    "\n",
    "  if (treatment %in% c(\"CTRL\", \"DMSO\")) next\n",
    "  if (control == \"CTRL\") next\n",
    "\n",
    "  go_enrichment <- new(\n",
    "    \"GoAnalysisSingle\",\n",
    "    inherit = treatment_ratios_chimerys,\n",
    "    ratio = ratio,\n",
    "    regulation = regulation,\n",
    "    ontology = ontology\n",
    "  )\n",
    "\n",
    "  if (is.null(go_enrichment@enrichment) || nrow(as.data.frame(go_enrichment@enrichment)) == 0) next\n",
    "\n",
    "  plotGO(\n",
    "    go_enrichment,\n",
    "    directory = biological_analysis_directory,\n",
    "    ontology = ontology,\n",
    "    regulation = regulation,\n",
    "    treatment = treatment,\n",
    "    control = control,\n",
    "    node_name = \"CHIMERYS\",\n",
    "    node_slug = \"chimerys\"\n",
    "  )\n",
    "}"
   ]
  },
  {
   "cell_type": "markdown",
   "metadata": {},
   "source": [
    "### Kyoto Encyclopedia of Genes and Genomes (KEGG) Pathway Analysis "
   ]
  },
  {
   "cell_type": "code",
   "execution_count": null,
   "metadata": {
    "vscode": {
     "languageId": "r"
    }
   },
   "outputs": [],
   "source": [
    "source(\"../classes/kegg_analysis_single.R\")"
   ]
  },
  {
   "cell_type": "code",
   "execution_count": null,
   "metadata": {
    "scrolled": true,
    "vscode": {
     "languageId": "r"
    }
   },
   "outputs": [],
   "source": [
    "ratios <- unique(treatment_ratios_sequest@ratio_df_consistent$Comparison)\n",
    "\n",
    "for (ratio in ratios) {\n",
    "  df <- treatment_ratios_sequest@ratio_df_consistent %>% filter(Comparison == ratio)\n",
    "\n",
    "  treatment <- unique(df$Treatment)\n",
    "  control <- unique(df$Control)\n",
    "  regulation <- \"up\"\n",
    "\n",
    "  if (treatment %in% c(\"CTRL\", \"DMSO\")) next\n",
    "  if (control == \"CTRL\") next\n",
    "\n",
    "  kegg_enrichment <- new(\n",
    "    \"KeggAnalysis\",\n",
    "    inherit = treatment_ratios_sequest,\n",
    "    ratio = ratio,\n",
    "    regulation = regulation\n",
    "  )\n",
    "\n",
    "  if (is.null(kegg_enrichment@enrichment) || nrow(as.data.frame(kegg_enrichment@enrichment)) == 0) next\n",
    "\n",
    "  plotKEGG(\n",
    "    kegg_enrichment,\n",
    "    directory = biological_analysis_directory,\n",
    "    regulation = regulation,\n",
    "    treatment = treatment,\n",
    "    control = control,\n",
    "    node_name = \"Sequest HT\",\n",
    "    node_slug = \"sequest\"\n",
    "  )\n",
    "}\n",
    "\n",
    "for (ratio in ratios) {\n",
    "  df <- treatment_ratios_sequest@ratio_df_consistent %>% filter(Comparison == ratio)\n",
    "\n",
    "  treatment <- unique(df$Treatment)\n",
    "  control <- unique(df$Control)\n",
    "  regulation <- \"down\"\n",
    "\n",
    "  if (treatment %in% c(\"CTRL\", \"DMSO\")) next\n",
    "  if (control == \"CTRL\") next\n",
    "\n",
    "  kegg_enrichment <- new(\n",
    "    \"KeggAnalysis\",\n",
    "    inherit = treatment_ratios_sequest,\n",
    "    ratio = ratio,\n",
    "    regulation = regulation\n",
    "  )\n",
    "\n",
    "  if (is.null(kegg_enrichment@enrichment) || nrow(as.data.frame(kegg_enrichment@enrichment)) == 0) next\n",
    "\n",
    "  plotKEGG(\n",
    "    kegg_enrichment,\n",
    "    directory = biological_analysis_directory,\n",
    "    regulation = regulation,\n",
    "    treatment = treatment,\n",
    "    control = control,\n",
    "    node_name = \"Sequest HT\",\n",
    "    node_slug = \"sequest\"\n",
    "  )\n",
    "}"
   ]
  },
  {
   "cell_type": "code",
   "execution_count": null,
   "metadata": {
    "scrolled": true,
    "vscode": {
     "languageId": "r"
    }
   },
   "outputs": [],
   "source": [
    "ratios <- unique(treatment_ratios_chimerys@ratio_df_consistent$Comparison)\n",
    "\n",
    "for (ratio in ratios) {\n",
    "  df <- treatment_ratios_chimerys@ratio_df_consistent %>% filter(Comparison == ratio)\n",
    "\n",
    "  treatment <- unique(df$Treatment)\n",
    "  control <- unique(df$Control)\n",
    "  regulation <- \"up\"\n",
    "\n",
    "  if (treatment %in% c(\"CTRL\", \"DMSO\")) next\n",
    "  if (control == \"CTRL\") next\n",
    "\n",
    "  kegg_enrichment <- new(\n",
    "    \"KeggAnalysis\",\n",
    "    inherit = treatment_ratios_chimerys,\n",
    "    ratio = ratio,\n",
    "    regulation = regulation\n",
    "  )\n",
    "\n",
    "  if (is.null(kegg_enrichment@enrichment) || nrow(as.data.frame(kegg_enrichment@enrichment)) == 0) next\n",
    "\n",
    "  plotKEGG(\n",
    "    kegg_enrichment,\n",
    "    directory = biological_analysis_directory,\n",
    "    regulation = regulation,\n",
    "    treatment = treatment,\n",
    "    control = control,\n",
    "    node_name = \"CHIMERYS\",\n",
    "    node_slug = \"chimerys\"\n",
    "  )\n",
    "}\n",
    "\n",
    "for (ratio in ratios) {\n",
    "  df <- treatment_ratios_chimerys@ratio_df_consistent %>% filter(Comparison == ratio)\n",
    "\n",
    "  treatment <- unique(df$Treatment)\n",
    "  control <- unique(df$Control)\n",
    "  regulation <- \"down\"\n",
    "\n",
    "  if (treatment %in% c(\"CTRL\", \"DMSO\")) next\n",
    "  if (control == \"CTRL\") next\n",
    "\n",
    "  kegg_enrichment <- new(\n",
    "    \"KeggAnalysis\",\n",
    "    inherit = treatment_ratios_chimerys,\n",
    "    ratio = ratio,\n",
    "    regulation = regulation\n",
    "  )\n",
    "\n",
    "  if (is.null(kegg_enrichment@enrichment) || nrow(as.data.frame(kegg_enrichment@enrichment)) == 0) next\n",
    "\n",
    "  plotKEGG(\n",
    "    kegg_enrichment,\n",
    "    directory = biological_analysis_directory,\n",
    "    regulation = regulation,\n",
    "    treatment = treatment,\n",
    "    control = control,\n",
    "    node_name = \"CHIMERYS\",\n",
    "    node_slug = \"chimerys\"\n",
    "  )\n",
    "}"
   ]
  },
  {
   "cell_type": "markdown",
   "metadata": {},
   "source": [
    "### DISGENET Analysis"
   ]
  },
  {
   "cell_type": "code",
   "execution_count": null,
   "metadata": {
    "vscode": {
     "languageId": "r"
    }
   },
   "outputs": [],
   "source": [
    "source(\"../classes/disgenet_analysis_single.R\")"
   ]
  },
  {
   "cell_type": "code",
   "execution_count": null,
   "metadata": {
    "scrolled": true,
    "vscode": {
     "languageId": "r"
    }
   },
   "outputs": [],
   "source": [
    "ratios <- unique(treatment_ratios_sequest@ratio_df_consistent$Comparison)\n",
    "\n",
    "for (ratio in ratios) {\n",
    "  df <- treatment_ratios_sequest@ratio_df_consistent %>% filter(Comparison == ratio)\n",
    "\n",
    "  treatment <- unique(df$Treatment)\n",
    "  control <- unique(df$Control)\n",
    "\n",
    "  if (treatment %in% c(\"CTRL\", \"DMSO\")) next\n",
    "  if (control == \"CTRL\") next\n",
    "\n",
    "  disgenet_sequest <- new(\n",
    "    \"DisgenetAnalysisSingle\",\n",
    "    inherit = treatment_ratios_sequest,\n",
    "    ratio = ratio\n",
    "  )\n",
    "\n",
    "  plotDiseaseClasses(disgenet_sequest, directory = biological_analysis_directory, treatment = treatment, control = control)\n",
    "}"
   ]
  },
  {
   "cell_type": "code",
   "execution_count": null,
   "metadata": {
    "vscode": {
     "languageId": "r"
    }
   },
   "outputs": [],
   "source": [
    "ratios <- unique(treatment_ratios_chimerys@ratio_df_consistent$Comparison)\n",
    "\n",
    "for (ratio in ratios) {\n",
    "  df <- treatment_ratios_chimerys@ratio_df_consistent %>% filter(Comparison == ratio)\n",
    "\n",
    "  treatment <- unique(df$Treatment)\n",
    "  control <- unique(df$Control)\n",
    "\n",
    "  if (treatment %in% c(\"CTRL\", \"DMSO\")) next\n",
    "  if (control == \"CTRL\") next\n",
    "\n",
    "  disgenet_chimerys <- new(\n",
    "    \"DisgenetAnalysisSingle\",\n",
    "    inherit = treatment_ratios_chimerys,\n",
    "    ratio = ratio\n",
    "  )\n",
    "\n",
    "  plotDiseaseClasses(disgenet_chimerys, directory = biological_analysis_directory, treatment = treatment, control = control)\n",
    "}"
   ]
  },
  {
   "cell_type": "markdown",
   "metadata": {},
   "source": [
    "## Session Info"
   ]
  },
  {
   "cell_type": "code",
   "execution_count": null,
   "metadata": {
    "vscode": {
     "languageId": "r"
    }
   },
   "outputs": [],
   "source": [
    "library(disgenet2r)\n",
    "sessionInfo()"
   ]
  }
 ],
 "metadata": {
  "kernelspec": {
   "display_name": "R",
   "language": "R",
   "name": "ir"
  },
  "language_info": {
   "codemirror_mode": "r",
   "file_extension": ".r",
   "mimetype": "text/x-r-source",
   "name": "R",
   "pygments_lexer": "r",
   "version": "4.2.2"
  }
 },
 "nbformat": 4,
 "nbformat_minor": 4
}
