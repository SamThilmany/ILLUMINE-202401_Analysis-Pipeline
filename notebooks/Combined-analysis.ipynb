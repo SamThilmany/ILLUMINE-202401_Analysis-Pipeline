{
 "cells": [
  {
   "cell_type": "markdown",
   "metadata": {},
   "source": [
    "# Combined Analysis of the LBQ and LFQ Data"
   ]
  },
  {
   "cell_type": "markdown",
   "metadata": {},
   "source": [
    "## Preparation for Analysis"
   ]
  },
  {
   "cell_type": "markdown",
   "metadata": {},
   "source": [
    "### Load Data"
   ]
  },
  {
   "cell_type": "code",
   "execution_count": null,
   "metadata": {
    "vscode": {
     "languageId": "r"
    }
   },
   "outputs": [],
   "source": [
    "source(\"../classes/data_loader.R\")\n",
    "source(\"../utils/data.R\")"
   ]
  },
  {
   "cell_type": "markdown",
   "metadata": {},
   "source": [
    "### Local Settings"
   ]
  },
  {
   "cell_type": "code",
   "execution_count": null,
   "metadata": {
    "vscode": {
     "languageId": "r"
    }
   },
   "outputs": [],
   "source": [
    "create_directory <- function(path) {\n",
    "  if (dir.exists(path)) {\n",
    "    warning(sprintf(\"Deleting %s\", path))\n",
    "    unlink(path, recursive = TRUE)\n",
    "  }\n",
    "\n",
    "  warning(sprintf(\"Creating %s\", path))\n",
    "  dir.create(path, recursive = TRUE)\n",
    "  file.create(file.path(path, \".gitkeep\"))\n",
    "}"
   ]
  },
  {
   "cell_type": "code",
   "execution_count": null,
   "metadata": {
    "vscode": {
     "languageId": "r"
    }
   },
   "outputs": [],
   "source": [
    "technical_analysis_directory <- \"../results/combined/technical-analysis/\"\n",
    "biological_analysis_directory <- \"../results/combined/biological-analysis/\"\n",
    "\n",
    "create_directory(technical_analysis_directory)\n",
    "create_directory(biological_analysis_directory)"
   ]
  },
  {
   "cell_type": "markdown",
   "metadata": {},
   "source": [
    "## Biological Analysis"
   ]
  },
  {
   "cell_type": "code",
   "execution_count": null,
   "metadata": {
    "vscode": {
     "languageId": "r"
    }
   },
   "outputs": [],
   "source": [
    "source(\"../classes/treatment_ratios.R\")\n",
    "\n",
    "lbq_treatment_ratios_sequest <- new(\n",
    "  \"TreatmentRatios\",\n",
    "  protein_df = data@lbqSequestHT_proteins_complete,\n",
    "  quan_method = \"LBQ\",\n",
    "  node_name = \"Sequest HT\",\n",
    "  gene_disease_associations = data@geneDiseaseAssociations\n",
    ")\n",
    "lbq_treatment_ratios_chimerys <- new(\n",
    "  \"TreatmentRatios\",\n",
    "  protein_df = data@lbqChimerys_proteins_complete,\n",
    "  quan_method = \"LBQ\",\n",
    "  node_name = \"CHIMERYS\",\n",
    "  gene_disease_associations = data@geneDiseaseAssociations\n",
    ")\n",
    "lfq_treatment_ratios_sequest <- new(\n",
    "  \"TreatmentRatios\",\n",
    "  protein_df = data@lfqSequestHT_proteins_complete,\n",
    "  quan_method = \"LFQ\",\n",
    "  node_name = \"Sequest HT\",\n",
    "  gene_disease_associations = data@geneDiseaseAssociations\n",
    ")\n",
    "lfq_treatment_ratios_chimerys <- new(\n",
    "  \"TreatmentRatios\",\n",
    "  protein_df = data@lfqChimerys_proteins_complete,\n",
    "  quan_method = \"LFQ\",\n",
    "  node_name = \"CHIMERYS\",\n",
    "  gene_disease_associations = data@geneDiseaseAssociations\n",
    ")"
   ]
  },
  {
   "cell_type": "code",
   "execution_count": null,
   "metadata": {
    "vscode": {
     "languageId": "r"
    }
   },
   "outputs": [],
   "source": [
    "source(\"../classes/combined_data.R\")\n",
    "\n",
    "combined_treatment_ratios <- new(\n",
    "  \"CombinedData\",\n",
    "  lbq_treatment_ratios_sequest,\n",
    "  lbq_treatment_ratios_chimerys,\n",
    "  lfq_treatment_ratios_sequest,\n",
    "  lfq_treatment_ratios_chimerys,\n",
    "  gene_disease_associations = data@geneDiseaseAssociations\n",
    ")"
   ]
  },
  {
   "cell_type": "markdown",
   "metadata": {},
   "source": [
    "### Venn Plot"
   ]
  },
  {
   "cell_type": "markdown",
   "metadata": {},
   "source": [
    "#### All proteins"
   ]
  },
  {
   "cell_type": "code",
   "execution_count": null,
   "metadata": {
    "vscode": {
     "languageId": "r"
    }
   },
   "outputs": [],
   "source": [
    "plotVennQuanMethods(\n",
    "  combined_treatment_ratios,\n",
    "  directory = biological_analysis_directory,\n",
    "  treatments = \"all\",\n",
    "  set = \"all\"\n",
    ")"
   ]
  },
  {
   "cell_type": "markdown",
   "metadata": {},
   "source": [
    "#### All regulated proteins"
   ]
  },
  {
   "cell_type": "code",
   "execution_count": null,
   "metadata": {
    "vscode": {
     "languageId": "r"
    }
   },
   "outputs": [],
   "source": [
    "plotVennQuanMethods(\n",
    "  combined_treatment_ratios,\n",
    "  directory = biological_analysis_directory,\n",
    "  treatments = list(\"all\", \"EE\", \"LNG\", \"EE.LNG\", \"S.23\"),\n",
    "  set = \"regulated\"\n",
    ")\n",
    "\n",
    "plotVennUpDownQuanMethods(\n",
    "  combined_treatment_ratios,\n",
    "  directory = biological_analysis_directory,\n",
    "  treatments = list(\"EE\", \"LNG\", \"EE.LNG\", \"S.23\"),\n",
    "  set = \"regulated\"\n",
    ")\n",
    "\n",
    "plotVennUpDownTreatment(\n",
    "  combined_treatment_ratios,\n",
    "  directory = biological_analysis_directory,\n",
    "  treatments = list(\"EE\", \"LNG\"),\n",
    "  set = \"regulated\"\n",
    ")"
   ]
  },
  {
   "cell_type": "markdown",
   "metadata": {},
   "source": [
    "#### Only consistently regulated proteins"
   ]
  },
  {
   "cell_type": "code",
   "execution_count": null,
   "metadata": {
    "vscode": {
     "languageId": "r"
    }
   },
   "outputs": [],
   "source": [
    "plotVennTreatments(\n",
    "  combined_treatment_ratios,\n",
    "  directory = biological_analysis_directory,\n",
    "  treatments = list(\"EE\", \"LNG\"),\n",
    "  set = \"consistent\",\n",
    "  match_gene_list = FALSE\n",
    ")\n",
    "\n",
    "plotVennUpDownTreatment(\n",
    "  combined_treatment_ratios,\n",
    "  directory = biological_analysis_directory,\n",
    "  treatments = list(\"EE\", \"LNG\"),\n",
    "  set = \"consistent\"\n",
    ")\n",
    "\n",
    "plotVennTreatments(\n",
    "  combined_treatment_ratios,\n",
    "  directory = biological_analysis_directory,\n",
    "  treatments = list(\"EE\", \"EE.LNG\"),\n",
    "  set = \"consistent\",\n",
    "  match_gene_list = FALSE\n",
    ")\n",
    "\n",
    "plotVennUpDownTreatment(\n",
    "  combined_treatment_ratios,\n",
    "  directory = biological_analysis_directory,\n",
    "  treatments = list(\"EE\", \"EE.LNG\"),\n",
    "  set = \"consistent\"\n",
    ")\n",
    "\n",
    "plotVennTreatments(\n",
    "  combined_treatment_ratios,\n",
    "  directory = biological_analysis_directory,\n",
    "  treatments = list(\"EE\", \"S.23\"),\n",
    "  set = \"consistent\",\n",
    "  match_gene_list = FALSE\n",
    ")\n",
    "\n",
    "plotVennUpDownTreatment(\n",
    "  combined_treatment_ratios,\n",
    "  directory = biological_analysis_directory,\n",
    "  treatments = list(\"EE\", \"S.23\"),\n",
    "  set = \"consistent\"\n",
    ")\n",
    "\n",
    "plotVennTreatments(\n",
    "  combined_treatment_ratios,\n",
    "  directory = biological_analysis_directory,\n",
    "  treatments = list(\"LNG\", \"EE.LNG\"),\n",
    "  set = \"consistent\",\n",
    "  match_gene_list = FALSE\n",
    ")\n",
    "\n",
    "plotVennUpDownTreatment(\n",
    "  combined_treatment_ratios,\n",
    "  directory = biological_analysis_directory,\n",
    "  treatments = list(\"LNG\", \"EE.LNG\"),\n",
    "  set = \"consistent\"\n",
    ")\n",
    "\n",
    "plotVennTreatments(\n",
    "  combined_treatment_ratios,\n",
    "  directory = biological_analysis_directory,\n",
    "  treatments = list(\"LNG\", \"S.23\"),\n",
    "  set = \"consistent\",\n",
    "  match_gene_list = FALSE\n",
    ")\n",
    "\n",
    "plotVennUpDownTreatment(\n",
    "  combined_treatment_ratios,\n",
    "  directory = biological_analysis_directory,\n",
    "  treatments = list(\"LNG\", \"S.23\"),\n",
    "  set = \"consistent\"\n",
    ")\n",
    "\n",
    "plotVennTreatments(\n",
    "  combined_treatment_ratios,\n",
    "  directory = biological_analysis_directory,\n",
    "  treatments = list(\"EE.LNG\", \"S.23\"),\n",
    "  set = \"consistent\",\n",
    "  match_gene_list = FALSE\n",
    ")\n",
    "\n",
    "plotVennUpDownTreatment(\n",
    "  combined_treatment_ratios,\n",
    "  directory = biological_analysis_directory,\n",
    "  treatments = list(\"EE.LNG\", \"S-23\"),\n",
    "  set = \"consistent\"\n",
    ")\n",
    "\n",
    "plotVennQuanMethods(\n",
    "  combined_treatment_ratios,\n",
    "  directory = biological_analysis_directory,\n",
    "  treatments = list(\"EE\", \"LNG\", \"EE.LNG\", \"S.23\"),\n",
    "  set = \"consistent\"\n",
    ")\n",
    "\n",
    "plotVennUpDownQuanMethods(\n",
    "  combined_treatment_ratios,\n",
    "  directory = biological_analysis_directory,\n",
    "  treatments = list(\"EE\", \"LNG\", \"EE.LNG\", \"S.23\"),\n",
    "  set = \"consistent\"\n",
    ")"
   ]
  },
  {
   "cell_type": "code",
   "execution_count": null,
   "metadata": {
    "vscode": {
     "languageId": "r"
    }
   },
   "outputs": [],
   "source": [
    "plotVennTreatments(\n",
    "  combined_treatment_ratios,\n",
    "  directory = biological_analysis_directory,\n",
    "  set = \"consistent\",\n",
    "  match_gene_list = FALSE\n",
    ")\n",
    "plotVennTreatments(\n",
    "  combined_treatment_ratios,\n",
    "  directory = biological_analysis_directory,\n",
    "  set = \"consistent\",\n",
    "  match_gene_list = TRUE,\n",
    "  print_intersections = TRUE\n",
    ")"
   ]
  },
  {
   "cell_type": "markdown",
   "metadata": {},
   "source": [
    "### Volcano Plots"
   ]
  },
  {
   "cell_type": "code",
   "execution_count": null,
   "metadata": {
    "vscode": {
     "languageId": "r"
    }
   },
   "outputs": [],
   "source": [
    "plotVolcanos(combined_treatment_ratios, directory = biological_analysis_directory, show_labels = FALSE, match_gene_list = FALSE)\n",
    "plotVolcanos(combined_treatment_ratios, directory = biological_analysis_directory, show_labels = TRUE, match_gene_list = FALSE)\n",
    "plotVolcanos(combined_treatment_ratios, directory = biological_analysis_directory, show_labels = TRUE, match_gene_list = TRUE)"
   ]
  },
  {
   "cell_type": "markdown",
   "metadata": {},
   "source": [
    "### Protein Table"
   ]
  },
  {
   "cell_type": "code",
   "execution_count": null,
   "metadata": {
    "vscode": {
     "languageId": "r"
    }
   },
   "outputs": [],
   "source": [
    "ratios <- unique(combined_treatment_ratios@ratio_df_consistent$Comparison)\n",
    "\n",
    "for (ratio in ratios) {\n",
    "  df <- combined_treatment_ratios@ratio_df_consistent %>% filter(Comparison == ratio)\n",
    "  treatment <- unique(df$Treatment)\n",
    "  control <- unique(df$Control)\n",
    "\n",
    "  if (treatment %in% c(\"CTRL\", \"DMSO\")) next\n",
    "  if (control == \"CTRL\") next\n",
    "    \n",
    "  table_up <- df %>%\n",
    "    filter(Diff.Expressed == \"up\") %>%\n",
    "    arrange(desc(Abs.log2.Ratio), desc(Neg.log10.p.Value)) %>%\n",
    "    slice_head(n = 50)\n",
    "\n",
    "  table_down <- df %>%\n",
    "    filter(Diff.Expressed == \"down\") %>%\n",
    "    arrange(desc(Abs.log2.Ratio), desc(Neg.log10.p.Value)) %>%\n",
    "    slice_head(n = 50) %>%\n",
    "    select(Accession, Gene.Symbol, Entrez.Gene.ID, Treatment, log2.Ratio, p.Value, Quan.Method)\n",
    "\n",
    "  table <- bind_rows(table_up, table_down)\n",
    "\n",
    "  display(table)\n",
    "  display(table(table$Quan.Method))\n",
    "  write.csv(table, file.path(biological_analysis_directory, sprintf(\"protein_table_%s.csv\", treatment)), row.names = FALSE)\n",
    "}"
   ]
  },
  {
   "cell_type": "markdown",
   "metadata": {},
   "source": [
    "### Gene Ontology Analysis"
   ]
  },
  {
   "cell_type": "code",
   "execution_count": null,
   "metadata": {
    "scrolled": true,
    "vscode": {
     "languageId": "r"
    }
   },
   "outputs": [],
   "source": [
    "source(\"../classes/go_analysis_combined.R\")"
   ]
  },
  {
   "cell_type": "code",
   "execution_count": null,
   "metadata": {
    "vscode": {
     "languageId": "r"
    }
   },
   "outputs": [],
   "source": [
    "go_enrichments <- list()\n",
    "ratios <- unique(combined_treatment_ratios@ratio_df_consistent$Comparison)\n",
    "\n",
    "for (ratio in ratios) {\n",
    "  df <- combined_treatment_ratios@ratio_df_consistent %>% filter(Comparison == ratio)\n",
    "    \n",
    "  treatment <- unique(df$Treatment)\n",
    "  control <- unique(df$Control)\n",
    "  regulation <- \"both\"\n",
    "  ontology <- \"all\"\n",
    "\n",
    "  if (treatment %in% c(\"CTRL\", \"DMSO\")) next\n",
    "  if (control == \"CTRL\") next\n",
    "\n",
    "  go_enrichments[[ratio]] <- new(\n",
    "    \"GoAnalysisCombined\",\n",
    "    inherit = combined_treatment_ratios,\n",
    "    ratio = ratio,\n",
    "    regulation = regulation,\n",
    "    ontology = ontology\n",
    "  )\n",
    "\n",
    "  if (is.null(go_enrichments[[ratio]]@enrichment) || nrow(as.data.frame(go_enrichments[[ratio]]@enrichment)) == 0) next\n",
    "\n",
    "  plotGO(\n",
    "    go_enrichments[[ratio]],\n",
    "    directory = biological_analysis_directory,\n",
    "    ontology = ontology,\n",
    "    regulation = regulation,\n",
    "    treatment = treatment,\n",
    "    control = control\n",
    "  )\n",
    "\n",
    "  printGO(\n",
    "    go_enrichments[[ratio]],\n",
    "    directory = biological_analysis_directory,\n",
    "    ontology = ontology,\n",
    "    regulation = regulation,\n",
    "    treatment = treatment,\n",
    "    control = control\n",
    "  )\n",
    "}"
   ]
  },
  {
   "cell_type": "code",
   "execution_count": null,
   "metadata": {
    "vscode": {
     "languageId": "r"
    }
   },
   "outputs": [],
   "source": [
    "source(\"../utils/helpers.R\")\n",
    "comparison <- list()\n",
    "\n",
    "for (ratio in names(go_enrichments)) {\n",
    "  name <- condition_renamer(gsub(\"_DMSO\", \"\", ratio))\n",
    "  comparison[[name]] <- go_enrichments[[ratio]]@enrichment@result %>% filter(pvalue < 0.05, qvalue < 0.1) %>% pull(ID)\n",
    "}\n",
    "\n",
    "plot <- plot_base_venn(comparison, \"Enriched GO Terms\", print_intersections = FALSE)\n",
    "\n",
    "save_and_show_plot(\"venn_plot_enriched_go_terms\", biological_analysis_directory, plot)"
   ]
  },
  {
   "cell_type": "markdown",
   "metadata": {},
   "source": [
    "### Kyoto Encyclopedia of Genes and Genomes (KEGG) Pathway Analysis "
   ]
  },
  {
   "cell_type": "code",
   "execution_count": null,
   "metadata": {
    "vscode": {
     "languageId": "r"
    }
   },
   "outputs": [],
   "source": [
    "source(\"../classes/kegg_analysis_combined.R\")"
   ]
  },
  {
   "cell_type": "code",
   "execution_count": null,
   "metadata": {
    "vscode": {
     "languageId": "r"
    }
   },
   "outputs": [],
   "source": [
    "kegg_enrichments <- list()\n",
    "ratios <- unique(combined_treatment_ratios@ratio_df_consistent$Comparison)\n",
    "\n",
    "for (ratio in ratios) {\n",
    "  df <- combined_treatment_ratios@ratio_df_consistent %>% filter(Comparison == ratio)\n",
    "\n",
    "  treatment <- unique(df$Treatment)\n",
    "  control <- unique(df$Control)\n",
    "  regulation <- \"both\"\n",
    "\n",
    "  if (treatment %in% c(\"CTRL\", \"DMSO\")) next\n",
    "  if (control == \"CTRL\") next\n",
    "\n",
    "  kegg_enrichments[[ratio]] <- new(\n",
    "    \"KeggAnalysisCombined\",\n",
    "    inherit = combined_treatment_ratios,\n",
    "    ratio = ratio,\n",
    "    regulation = regulation\n",
    "  )\n",
    "\n",
    "  if (is.null(kegg_enrichments[[ratio]]@enrichment) || nrow(as.data.frame(kegg_enrichments[[ratio]]@enrichment)) == 0) next\n",
    "\n",
    "  plotKEGG(\n",
    "    kegg_enrichments[[ratio]],\n",
    "    directory = biological_analysis_directory,\n",
    "    regulation = regulation,\n",
    "    treatment = treatment,\n",
    "    control = control\n",
    "  )\n",
    "\n",
    "  printKEGG(\n",
    "    kegg_enrichments[[ratio]],\n",
    "    directory = biological_analysis_directory,\n",
    "    regulation = regulation,\n",
    "    treatment = treatment,\n",
    "    control = control\n",
    "  )\n",
    "}"
   ]
  },
  {
   "cell_type": "code",
   "execution_count": null,
   "metadata": {
    "vscode": {
     "languageId": "r"
    }
   },
   "outputs": [],
   "source": [
    "source(\"../utils/helpers.R\")\n",
    "comparison <- list()\n",
    "\n",
    "for (ratio in names(kegg_enrichments)) {\n",
    "  name <- condition_renamer(gsub(\"_DMSO\", \"\", ratio))\n",
    "  comparison[[name]] <- kegg_enrichments[[ratio]]@enrichment@result %>% filter(pvalue < 0.05, qvalue < 0.1) %>% pull(ID)\n",
    "}\n",
    "\n",
    "plot <- plot_base_venn(comparison, \"Enriched KEGG Pathways\", print_intersections = FALSE)\n",
    "\n",
    "save_and_show_plot(\"venn_plot_enriched_kegg_pathways\", biological_analysis_directory, plot)"
   ]
  },
  {
   "cell_type": "markdown",
   "metadata": {
    "vscode": {
     "languageId": "r"
    }
   },
   "source": [
    "### DISGENET Analysis"
   ]
  },
  {
   "cell_type": "code",
   "execution_count": null,
   "metadata": {
    "vscode": {
     "languageId": "r"
    }
   },
   "outputs": [],
   "source": [
    "source(\"../classes/disgenet_analysis_combined.R\")\n",
    "\n",
    "disgenet_results <- list()\n",
    "ratios <- unique(combined_treatment_ratios@ratio_df_consistent$Comparison)\n",
    "\n",
    "for (ratio in ratios) {\n",
    "  df <- combined_treatment_ratios@ratio_df_consistent %>% filter(Comparison == ratio)\n",
    "\n",
    "  treatment <- unique(df$Treatment)\n",
    "  control <- unique(df$Control)\n",
    "\n",
    "  if (treatment %in% c(\"CTRL\", \"DMSO\")) next\n",
    "  if (control == \"CTRL\") next\n",
    "\n",
    "  disgenet_results[[ratio]] <- new(\n",
    "    \"DisgenetAnalysisCombined\",\n",
    "    inherit = combined_treatment_ratios,\n",
    "    ratio = ratio\n",
    "  )\n",
    "\n",
    "  plotDiseaseClasses(disgenet_results[[ratio]], directory = biological_analysis_directory, treatment = treatment, control = control)\n",
    "}"
   ]
  },
  {
   "cell_type": "code",
   "execution_count": null,
   "metadata": {
    "vscode": {
     "languageId": "r"
    }
   },
   "outputs": [],
   "source": [
    "source(\"../utils/helpers.R\")\n",
    "\n",
    "comparison_class <- list()\n",
    "comparison_name <- list()\n",
    "comparison_gda <- list()\n",
    "\n",
    "for (ratio in names(disgenet_results)) {\n",
    "  all_gdas <- nrow(disgenet_results[[ratio]]@enrichment_df)\n",
    "  f03_gdas <- nrow(disgenet_results[[ratio]]@enrichment_df %>% filter(grepl(\"F03\", diseaseClasses_MSH)))\n",
    "\n",
    "  diseases <- disgenet_results[[ratio]]@enrichment_df %>% pull(disease_name) %>% unique() %>% na.omit()\n",
    "  mesh_classes <- disgenet_results[[ratio]]@enrichment_df %>% pull(diseaseClasses_MSH) %>% unique() %>% na.omit()\n",
    "  treatment <- condition_renamer(gsub(\"_DMSO\", \"\", ratio))\n",
    "\n",
    "  comparison_class[[treatment]] <- mesh_classes\n",
    "  comparison_name[[treatment]] <- diseases\n",
    "  comparison_gda[[treatment]] <- all_gdas\n",
    "\n",
    "  cat(ratio, fill = TRUE)\n",
    "  cat(sprintf(\"N° GDAs: %s\", all_gdas), fill = TRUE)\n",
    "  cat(sprintf(\"N° F03-related GDAs: %s\", f03_gdas), fill = TRUE)\n",
    "  cat(sprintf(\"Percentage of F03-related GDAs: %s%%\", round(f03_gdas / all_gdas * 100, 2)), fill = TRUE)\n",
    "  cat(\"\", fill = TRUE)\n",
    "}\n",
    "\n",
    "plot_class <- plot_base_venn(comparison_class, \"DISGENET GDAs (MeSH Class Name)\", print_intersections = FALSE)\n",
    "plot_name <- plot_base_venn(comparison_name, \"DISGENET GDAs (Disease Name)\", print_intersections = FALSE)\n",
    "\n",
    "save_and_show_plot(\"venn_plot_disgenet_gdas_mesh_classes\", biological_analysis_directory, plot_class)\n",
    "save_and_show_plot(\"venn_plot_disgenet_gdas_disease_name\", biological_analysis_directory, plot_name)\n",
    "\n",
    "cat(\"EE\", fill = TRUE)\n",
    "cat(paste(disgenet_results[[\"EE_DMSO\"]]@enrichment_df %>% filter(grepl(\"F03\", diseaseClasses_MSH)) %>% filter(grepl(\"depress|bipolar|mood\", tolower(disease_name))) %>% pull(disease_name) %>% unique() %>% na.omit(), collapse = \"\\n\"), fill = TRUE)\n",
    "cat(\"\", fill = TRUE)\n",
    "\n",
    "cat(\"LNG\", fill = TRUE)\n",
    "cat(paste(disgenet_results[[\"LNG_DMSO\"]]@enrichment_df %>% filter(grepl(\"F03\", diseaseClasses_MSH)) %>% filter(grepl(\"depress|bipolar|mood\", tolower(disease_name))) %>% pull(disease_name) %>% unique() %>% na.omit(), collapse = \"\\n\"), fill = TRUE)\n",
    "cat(\"\", fill = TRUE)\n",
    "\n",
    "cat(\"EE + LNG\", fill = TRUE)\n",
    "cat(paste(disgenet_results[[\"EE.LNG_DMSO\"]]@enrichment_df %>% filter(grepl(\"F03\", diseaseClasses_MSH)) %>% filter(grepl(\"depress|bipolar|mood\", tolower(disease_name))) %>% pull(disease_name) %>% unique() %>% na.omit(), collapse = \"\\n\"), fill = TRUE)\n",
    "cat(\"\", fill = TRUE)\n",
    "\n",
    "cat(\"S-23\", fill = TRUE)\n",
    "cat(paste(disgenet_results[[\"S.23_DMSO\"]]@enrichment_df %>% filter(grepl(\"F03\", diseaseClasses_MSH)) %>% filter(grepl(\"depress|bipolar|mood\", tolower(disease_name))) %>% pull(disease_name) %>% unique() %>% na.omit(), collapse = \"\\n\"), fill = TRUE)"
   ]
  },
  {
   "cell_type": "code",
   "execution_count": null,
   "metadata": {},
   "outputs": [],
   "source": [
    "for (condition in c(\"LNG\", \"EE.LNG\", \"S.23\")) {\n",
    "    tmp_df <- disgenet_results[[paste0(condition, \"_DMSO\")]]@enrichment_df %>% \n",
    "        filter(grepl(\"F03\", diseaseClasses_MSH)) %>%\n",
    "        filter(grepl(\"depress|bipolar|mood\", tolower(disease_name))) %>%\n",
    "        arrange(disease_name)\n",
    "\n",
    "    display(tmp_df)\n",
    "}\n",
    "    \n",
    "#genes <- unique(tmp_df$gene_symbol)\n",
    "\n",
    "#results <- disgenet2r::gene2evidence(\n",
    "#    gene = genes, \n",
    "#    vocabulary = \"HGNC\", \n",
    "#    disease = \"MESH_D019964\", \n",
    "#    database = \"CURATED\"\n",
    "#)\n",
    "\n",
    "#results@qresult %>%\n",
    "#    select(gene_symbol, pmid, pmYear, text) %>%\n",
    "#    arrange(gene_symbol)"
   ]
  },
  {
   "cell_type": "markdown",
   "metadata": {},
   "source": [
    "## Session Info"
   ]
  },
  {
   "cell_type": "code",
   "execution_count": null,
   "metadata": {
    "vscode": {
     "languageId": "r"
    }
   },
   "outputs": [],
   "source": [
    "library(disgenet2r)\n",
    "sessionInfo()"
   ]
  }
 ],
 "metadata": {
  "kernelspec": {
   "display_name": "R",
   "language": "R",
   "name": "ir"
  },
  "language_info": {
   "codemirror_mode": "r",
   "file_extension": ".r",
   "mimetype": "text/x-r-source",
   "name": "R",
   "pygments_lexer": "r",
   "version": "4.2.2"
  }
 },
 "nbformat": 4,
 "nbformat_minor": 4
}
