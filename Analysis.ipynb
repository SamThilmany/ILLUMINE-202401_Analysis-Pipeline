{
 "cells": [
  {
   "cell_type": "markdown",
   "id": "888045be-ed3e-440c-a6ae-25bf4507818c",
   "metadata": {},
   "source": [
    "# Proteomics Data Analysis"
   ]
  },
  {
   "cell_type": "markdown",
   "id": "8c9a6283-0b93-44a5-8444-2e62c6ecad11",
   "metadata": {},
   "source": [
    "## Libraries"
   ]
  },
  {
   "cell_type": "code",
   "execution_count": null,
   "id": "a4f43776-cc59-42fa-a154-1089097d3428",
   "metadata": {
    "vscode": {
     "languageId": "r"
    }
   },
   "outputs": [],
   "source": [
    "suppressPackageStartupMessages({\n",
    "  library(conflicted)\n",
    "  library(tidyverse)\n",
    "  library(ggVennDiagram)\n",
    "  library(patchwork)\n",
    "  library(scales)\n",
    "  library(IRdisplay)\n",
    "  library(sysfonts)\n",
    "  library(showtext)\n",
    "})"
   ]
  },
  {
   "cell_type": "markdown",
   "id": "f30ad398-f11b-4c4b-81c5-d4c6ac8bb190",
   "metadata": {},
   "source": [
    "## Settings"
   ]
  },
  {
   "cell_type": "code",
   "execution_count": null,
   "id": "e12d7e04-6d46-4058-96a7-8aba049ece42",
   "metadata": {
    "vscode": {
     "languageId": "r"
    }
   },
   "outputs": [],
   "source": [
    "# Graphics\n",
    "default_dpi <- 600\n",
    "default_width <- 80 # 50-80 to 120-170\n",
    "default_height <- 66\n",
    "default_unit <- \"mm\"\n",
    "default_font_size <- 8\n",
    "default_text_color <- \"#231F20\"\n",
    "default_label_characters <- 20\n",
    "\n",
    "showtext_opts(dpi = default_dpi)\n",
    "showtext_auto()\n",
    "\n",
    "theme_set(\n",
    "  theme_minimal() +\n",
    "    theme(\n",
    "      text = element_text(size = default_font_size, color = default_text_color),\n",
    "      plot.title = element_text(hjust = 0.5),\n",
    "      plot.title.position = \"panel\",\n",
    "      plot.subtitle = element_text(hjust = 0.5),\n",
    "      plot.tag = element_text(size = default_font_size, color = default_text_color, face = \"bold\"),\n",
    "      axis.ticks = element_line(color = default_text_color),\n",
    "      legend.title = element_text(size = 0.8 * default_font_size),\n",
    "      legend.text = element_text(size = 0.5 * default_font_size),\n",
    "      legend.key.size = unit(4, \"mm\"),\n",
    "      panel.grid = element_line(color = \"#ECE9EA\", linewidth = 0.25),\n",
    "      panel.grid.minor = element_line(linewidth = 0.125, linetype = 2),\n",
    "      panel.background = element_rect(fill = \"transparent\", color = NA),\n",
    "      panel.border = element_rect(color = default_text_color, fill = NA),\n",
    "      plot.background = element_rect(fill = \"transparent\", color = NA),\n",
    "      axis.text = element_text(size = 6),\n",
    "    )\n",
    ")\n",
    "update_geom_defaults(\"text\", list(size = 0.8 * default_font_size / .pt))\n",
    "\n",
    "# Statistics\n",
    "lfq_fdr_cutoff <- 0.05\n",
    "lbq_fdr_cutoff <- 0.01\n",
    "\n",
    "# Labels\n",
    "conditionLabels <- c(\"CTRL vs. DMSO\",\n",
    "                     \"EE vs. DMSO\",\n",
    "                     \"LNG vs. DMSO\",\n",
    "                     \"EE + LNG vs. DMSO\",\n",
    "                     \"S-23 vs. DMSO\")\n",
    "names(conditionLabels) <- c(\"CTRL_vs_DMSO\",\n",
    "                            \"EE_vs_DMSO\",\n",
    "                            \"LNG_vs_DMSO\",\n",
    "                            \"EE+LNG_vs_DMSO\",\n",
    "                            \"S-23_vs_DMSO\")\n",
    "\n",
    "# Directories\n",
    "dirs <- list(\"graphs\", \"results\", \"logs\")\n",
    "\n",
    "for (dir in dirs) {\n",
    "  if (dir.exists(dir)) {\n",
    "    unlink(dir, recursive = TRUE)\n",
    "  }\n",
    "  dir.create(dir, recursive = TRUE)\n",
    "}"
   ]
  },
  {
   "cell_type": "markdown",
   "id": "7be65ef4-7ad8-4b2e-aef7-7623853313e0",
   "metadata": {},
   "source": [
    "## Global Helper Functions"
   ]
  },
  {
   "cell_type": "code",
   "execution_count": null,
   "id": "81d41b5c-4102-4253-8177-9a2977f49f0a",
   "metadata": {
    "vscode": {
     "languageId": "r"
    }
   },
   "outputs": [],
   "source": [
    "source(\"helpers/global.r\")"
   ]
  },
  {
   "cell_type": "markdown",
   "id": "2bf4d046-be6c-4cc6-be99-053551764035",
   "metadata": {},
   "source": [
    "## Load Data"
   ]
  },
  {
   "cell_type": "markdown",
   "id": "6b8eabe1-2f3d-4dc2-b8b9-9d9689f17bcd",
   "metadata": {},
   "source": [
    "The PSMs identified by Proteome Discoverer are read and filtered to remove PSMs with high isolation interference, PSMs matching mutliple protein groups and PSMs matching a contaminant protein.\n",
    "\n",
    "For this analysis, only human keratins were selected as contaminants. Therefore the [list of all human keratins](https://www.uniprot.org/uniprotkb?query=keratin+human&facets=reviewed%3Atrue%2Cmodel_organism%3A9606%2Cexistence%3A1) was downloaded from UniProtKB/Swiss-Prot."
   ]
  },
  {
   "cell_type": "code",
   "execution_count": null,
   "id": "2bd74a03-f509-43ec-997e-58c1600f450b",
   "metadata": {
    "vscode": {
     "languageId": "r"
    }
   },
   "outputs": [],
   "source": [
    "source(\"helpers/load_data.r\")"
   ]
  },
  {
   "cell_type": "code",
   "execution_count": null,
   "id": "6859db25-39ec-4571-8bb9-c1f1b36d66a5",
   "metadata": {
    "vscode": {
     "languageId": "r"
    }
   },
   "outputs": [],
   "source": [
    "lfqPsm_originalData <- load_data(\"data/LFQ/LFQ_PSMs.tsv\", \"data/contaminants.tsv\", type = \"LFQ\")"
   ]
  },
  {
   "cell_type": "code",
   "execution_count": null,
   "id": "349b5dbc-1a87-48c7-abcb-866b37d1a4dd",
   "metadata": {
    "vscode": {
     "languageId": "r"
    }
   },
   "outputs": [],
   "source": [
    "lfqAnnotation <- read.table(\"data/LFQ/annotation.tsv\", sep = \"\\t\", header = TRUE)"
   ]
  },
  {
   "cell_type": "code",
   "execution_count": null,
   "id": "0d21bd8b-42ac-4f02-8aac-ee654385d8ca",
   "metadata": {
    "vscode": {
     "languageId": "r"
    }
   },
   "outputs": [],
   "source": [
    "lbqPsm_originalData <- load_data(\"data/LBQ/LBQ_PSMs.tsv\", \"data/contaminants.tsv\", type = \"LBQ\")"
   ]
  },
  {
   "cell_type": "code",
   "execution_count": null,
   "id": "a4cfb4d9-d0ab-4fa4-b4a6-3675c0522656",
   "metadata": {
    "vscode": {
     "languageId": "r"
    }
   },
   "outputs": [],
   "source": [
    "if (!file.exists(\"data/LBQ/annotation.tsv\")) {\n",
    "  source(\"helpers/lbq_annotation.R\")\n",
    "  create_lbq_annotation_file(\"annotation.tsv\", \"./data/LBQ/\")\n",
    "}\n",
    "\n",
    "lbqAnnotation <- read.table(\"data/LBQ/annotation.tsv\", sep = \"\\t\", header = TRUE)"
   ]
  },
  {
   "cell_type": "markdown",
   "id": "d09001dd-a8e5-4926-8231-4c2f7d7e39ce",
   "metadata": {},
   "source": [
    "## Labeling Efficiency and Uniformity"
   ]
  },
  {
   "cell_type": "code",
   "execution_count": null,
   "id": "6116635f-6e46-4fe5-84db-65ceae933bc9",
   "metadata": {
    "vscode": {
     "languageId": "r"
    }
   },
   "outputs": [],
   "source": [
    "source(\"helpers/labeling.R\")"
   ]
  },
  {
   "cell_type": "code",
   "execution_count": null,
   "id": "c7670d77-f967-4093-ab5f-ee64c13af002",
   "metadata": {
    "vscode": {
     "languageId": "r"
    }
   },
   "outputs": [],
   "source": [
    "labeling_efficiency <- get_labeling_efficiency(lbqPsm_originalData)\n",
    "\n",
    "cat(labeling_efficiency)"
   ]
  },
  {
   "cell_type": "code",
   "execution_count": null,
   "id": "30c8d4fb-493e-4dd8-bdcd-c3184e222442",
   "metadata": {
    "vscode": {
     "languageId": "r"
    }
   },
   "outputs": [],
   "source": [
    "reporterIon_distribution <- get_reporterIon_distribution(lbqPsm_originalData)\n",
    "reporterIon_stats <- get_reporterIon_stats(reporterIon_distribution)\n",
    "\n",
    "reporterIon_density_plots <- get_reporterIon_density_plots(reporterIon_distribution, reporterIon_stats)\n",
    "\n",
    "save_and_show_plot(\n",
    "  \"reporterIon_density_plots\",\n",
    "  reporterIon_density_plots,\n",
    "  plot_width = 120,\n",
    "  plot_height = 75\n",
    ")"
   ]
  },
  {
   "cell_type": "markdown",
   "id": "0f1a3092-a0ea-4932-97c5-9a9d8c75d176",
   "metadata": {},
   "source": [
    "## Convert LFQ PD Data to MSstatsFormat"
   ]
  },
  {
   "cell_type": "code",
   "execution_count": null,
   "id": "43a93fc3-4a19-4cdf-9b1b-fc4c49634f48",
   "metadata": {
    "vscode": {
     "languageId": "r"
    }
   },
   "outputs": [],
   "source": [
    "lfqPsm_formattedData <- MSstats::PDtoMSstatsFormat(\n",
    "  lfqPsm_originalData %>% mutate(Spectrum.File = File.ID),\n",
    "  annotation = lfqAnnotation,\n",
    "  which.quantification = \"Precursor.Abundance\",\n",
    "  which.proteinid = \"Master.Protein.Accessions\",\n",
    "  use_log_file = TRUE,\n",
    "  log_file_path = \"logs/PDtoMSstatsFormat.log\"\n",
    ")\n",
    "\n",
    "# Ensure the correct file arrangement\n",
    "run_levels <- paste0(\"F\", sort(as.numeric(gsub(\n",
    "  \"F\", \"\", unique(lfqPsm_formattedData$Run)\n",
    "))))\n",
    "\n",
    "lfqPsm_formattedData <- lfqPsm_formattedData %>%\n",
    "  as.data.frame() %>%\n",
    "  mutate(Missing = is.na(Intensity),\n",
    "         Run = factor(Run, levels = run_levels))"
   ]
  },
  {
   "cell_type": "markdown",
   "id": "67633b47-5207-46fd-8005-d2e2b4efba65",
   "metadata": {},
   "source": [
    "### Basic Information"
   ]
  },
  {
   "cell_type": "markdown",
   "id": "993c168d-9913-4ae4-8df1-45f16ac79cb3",
   "metadata": {},
   "source": [
    "#### Total PSMs"
   ]
  },
  {
   "cell_type": "code",
   "execution_count": null,
   "id": "1e0b42d9-6527-42bf-bcd0-957fb698739f",
   "metadata": {
    "vscode": {
     "languageId": "r"
    }
   },
   "outputs": [],
   "source": [
    "cat(nrow(lfqPsm_originalData))"
   ]
  },
  {
   "cell_type": "markdown",
   "id": "296e0da0-8346-4738-9814-913096b30295",
   "metadata": {},
   "source": [
    "#### Total Peptide ions"
   ]
  },
  {
   "cell_type": "code",
   "execution_count": null,
   "id": "f288f1cc-be27-4f3b-a30a-24d6bf672e5c",
   "metadata": {
    "vscode": {
     "languageId": "r"
    }
   },
   "outputs": [],
   "source": [
    "cat(length(unique(lfqPsm_formattedData %>% pull(\"PeptideModifiedSequence\"))))"
   ]
  },
  {
   "cell_type": "markdown",
   "id": "1c136f71-ed41-4a07-bf5c-5e0e5fd7bfbe",
   "metadata": {},
   "source": [
    "#### Missing Data"
   ]
  },
  {
   "cell_type": "code",
   "execution_count": null,
   "id": "1ec5e4cb-8ded-48f8-ac8d-4e7ad933aa06",
   "metadata": {
    "vscode": {
     "languageId": "r"
    }
   },
   "outputs": [],
   "source": [
    "tmp <- lfqPsm_formattedData %>%\n",
    "  dplyr::filter(Missing == TRUE)\n",
    "\n",
    "cat(\"\\nPer Run\")\n",
    "table(tmp$Run)\n",
    "\n",
    "cat(\"\\nPer Condition\")\n",
    "table(tmp$Condition)"
   ]
  },
  {
   "cell_type": "markdown",
   "id": "f190edca-38f0-47b6-9bb0-8feb4a47e88d",
   "metadata": {},
   "source": [
    "## Convert LBQ PD Data to MSstatsTMTFormat"
   ]
  },
  {
   "cell_type": "code",
   "execution_count": null,
   "id": "21232967-4239-4afd-8600-318ca28611d9",
   "metadata": {
    "vscode": {
     "languageId": "r"
    }
   },
   "outputs": [],
   "source": [
    "lbqPsm_formattedData <- MSstatsTMT::PDtoMSstatsTMTFormat(\n",
    "  # Only use the identification node with a static TMTpro modification\n",
    "  lbqPsm_originalData %>% dplyr::filter(Identifying.Node.No == 4),\n",
    "  annotation = lbqAnnotation,\n",
    "  which.proteinid = \"Master.Protein.Accessions\",\n",
    "  use_log_file = TRUE,\n",
    "  log_file_path = \"logs/PDtoMSstatsTMTFormat.log\"\n",
    ")\n",
    "\n",
    "# Ensure the correct channel arrangement\n",
    "channel_levels <- c(\n",
    "  \"126\",\n",
    "  \"127N\",\n",
    "  \"127C\",\n",
    "  \"128N\",\n",
    "  \"128C\",\n",
    "  \"129N\",\n",
    "  \"129C\",\n",
    "  \"130N\",\n",
    "  \"130C\",\n",
    "  \"131N\",\n",
    "  \"131C\",\n",
    "  \"132N\",\n",
    "  \"132C\",\n",
    "  \"133N\",\n",
    "  \"133C\",\n",
    "  \"134N\"\n",
    ")\n",
    "\n",
    "lbqPsm_formattedData <- lbqPsm_formattedData %>%\n",
    "  as.data.frame() %>%\n",
    "  mutate(Missing = is.na(Intensity)) %>%\n",
    "  mutate(Channel = factor(Channel, levels = channel_levels))"
   ]
  },
  {
   "cell_type": "markdown",
   "id": "a84a2fe1-1fe7-47f5-85c1-7eab08ab8107",
   "metadata": {},
   "source": [
    "### Basic Information"
   ]
  },
  {
   "cell_type": "markdown",
   "id": "fff6c778-a7ca-4031-bb1a-10b84324172c",
   "metadata": {},
   "source": [
    "#### Total PSMs"
   ]
  },
  {
   "cell_type": "code",
   "execution_count": null,
   "id": "4f4e88b2-b8e6-4c8a-81b5-87f2d9e30df0",
   "metadata": {
    "vscode": {
     "languageId": "r"
    }
   },
   "outputs": [],
   "source": [
    "cat(nrow(lbqPsm_originalData))"
   ]
  },
  {
   "cell_type": "markdown",
   "id": "5bb7f080-0bcb-4385-b29a-fde82b451c57",
   "metadata": {},
   "source": [
    "#### Total Peptide ions"
   ]
  },
  {
   "cell_type": "code",
   "execution_count": null,
   "id": "fb63134f-8604-464f-9c3d-4668836d2d47",
   "metadata": {
    "vscode": {
     "languageId": "r"
    }
   },
   "outputs": [],
   "source": [
    "cat(length(unique(lbqPsm_formattedData %>% pull(\"PeptideSequence\"))))"
   ]
  },
  {
   "cell_type": "markdown",
   "id": "26e8e6a8-040a-4077-89f8-ad7ac34ee518",
   "metadata": {},
   "source": [
    "#### Missing Data"
   ]
  },
  {
   "cell_type": "code",
   "execution_count": null,
   "id": "80fc67f6-c552-43ee-bd57-baae6187930c",
   "metadata": {
    "vscode": {
     "languageId": "r"
    }
   },
   "outputs": [],
   "source": [
    "tmp <- lbqPsm_formattedData %>%\n",
    "  dplyr::filter(Missing == TRUE)\n",
    "\n",
    "cat(\"Missing Values in LBQ Data:\\n\")\n",
    "\n",
    "cat(\"\\nPer Channel\")\n",
    "table(tmp$Channel)\n",
    "\n",
    "cat(\"\\nPer Condition\")\n",
    "table(tmp$Condition)\n",
    "\n",
    "cat(\"\\nPer Tech. Replicate\")\n",
    "table(tmp$TechRepMixture)"
   ]
  },
  {
   "cell_type": "markdown",
   "id": "2c910a7e-f921-42ed-a426-80bf1b366ba9",
   "metadata": {},
   "source": [
    "## Plot Missing Values"
   ]
  },
  {
   "cell_type": "markdown",
   "id": "49af710c-5e60-49a3-933e-2d79175f284b",
   "metadata": {},
   "source": [
    "### Visualize the Missing Values in the Original Dataset"
   ]
  },
  {
   "cell_type": "code",
   "execution_count": null,
   "id": "18cdf6b9-6cac-4e34-8342-989f41a5e8ca",
   "metadata": {
    "vscode": {
     "languageId": "r"
    }
   },
   "outputs": [],
   "source": [
    "source(\"helpers/missing_values.R\")"
   ]
  },
  {
   "cell_type": "code",
   "execution_count": null,
   "id": "6c98d330-853e-4fbf-a83d-a3c2eb91e4ae",
   "metadata": {
    "vscode": {
     "languageId": "r"
    }
   },
   "outputs": [],
   "source": [
    "missing_data_peptide <- get_missing_data(lfqPsm_formattedData, lbqPsm_formattedData)\n",
    "missingness_data <- get_missingness_data(missing_data_peptide)\n",
    "missing_summary_data <- get_missing_summary_data(lfqPsm_formattedData, lbqPsm_formattedData)\n",
    "\n",
    "missingValuesPlot_original <- get_complete_missingness_plot(missingness_data, missing_data_peptide, missing_summary_data)\n",
    "\n",
    "save_and_show_plot(\n",
    "  \"missingValuesPlot_original\",\n",
    "  missingValuesPlot_original,\n",
    "  plot_width = 120\n",
    ")"
   ]
  },
  {
   "cell_type": "markdown",
   "id": "593b5fc0-7c0b-4545-a863-d39e83975d0a",
   "metadata": {},
   "source": [
    "## Filter Out Proteins with Too Much Missingness"
   ]
  },
  {
   "cell_type": "code",
   "execution_count": null,
   "id": "85ff2f5b-739e-45d0-b45d-281a430a5277",
   "metadata": {
    "vscode": {
     "languageId": "r"
    }
   },
   "outputs": [],
   "source": [
    "lfqPsm_formattedData_filtered <- lfqPsm_formattedData %>%\n",
    "  group_by(ProteinName) %>%\n",
    "  dplyr::filter(mean(is.na(Intensity)) < 0.5)\n",
    "\n",
    "cat(\n",
    "  sprintf(\n",
    "    \"LFQ:\\nBefore filtering: %s proteins\\nAfter filtering: %s proteins\\nRemoved proteins: %s\\n\\n\",\n",
    "    length(unique(lfqPsm_formattedData$ProteinName)),\n",
    "    length(unique(\n",
    "      lfqPsm_formattedData_filtered$ProteinName\n",
    "    )),\n",
    "    length(unique(lfqPsm_formattedData$ProteinName)) - length(unique(\n",
    "      lfqPsm_formattedData_filtered$ProteinName\n",
    "    ))\n",
    "  )\n",
    ")\n",
    "\n",
    "lbqPsm_formattedData_filtered <- lbqPsm_formattedData %>%\n",
    "  group_by(ProteinName) %>%\n",
    "  dplyr::filter(mean(is.na(Intensity)) < 0.5) %>%\n",
    "  ungroup()\n",
    "\n",
    "cat(\n",
    "  sprintf(\n",
    "    \"LBQ:\\nBefore filtering: %s proteins\\nAfter filtering: %s proteins\\nRemoved proteins: %s\\n\\n\",\n",
    "    length(unique(lbqPsm_formattedData$ProteinName)),\n",
    "    length(unique(\n",
    "      lbqPsm_formattedData_filtered$ProteinName\n",
    "    )),\n",
    "    length(unique(lbqPsm_formattedData$ProteinName)) - length(unique(\n",
    "      lbqPsm_formattedData_filtered$ProteinName\n",
    "    ))\n",
    "  )\n",
    ")"
   ]
  },
  {
   "cell_type": "markdown",
   "id": "b1ddede8-bdc4-43c4-b2c4-5427bfa12377",
   "metadata": {},
   "source": [
    "## Re-Plot Missing Values"
   ]
  },
  {
   "cell_type": "code",
   "execution_count": null,
   "id": "6fc13d12-00b1-4803-ab22-7438681c3084",
   "metadata": {
    "vscode": {
     "languageId": "r"
    }
   },
   "outputs": [],
   "source": [
    "missing_data <- get_missing_data(lfqPsm_formattedData_filtered,\n",
    "                                 lbqPsm_formattedData_filtered)\n",
    "missingness_data <- get_missingness_data(missing_data)\n",
    "missing_summary_data <- get_missing_summary_data(lfqPsm_formattedData_filtered,\n",
    "                                                 lbqPsm_formattedData_filtered)\n",
    "\n",
    "missingValuesPlot_filtered <- get_complete_missingness_plot(missingness_data, missing_data, missing_summary_data)\n",
    "\n",
    "save_and_show_plot(\n",
    "  \"missingValuesPlot_filtered\",\n",
    "  missingValuesPlot_filtered,\n",
    "  plot_width = 120\n",
    ")"
   ]
  },
  {
   "cell_type": "markdown",
   "id": "75874c4f-a2df-4cd9-8e74-cad04c6c0d9e",
   "metadata": {},
   "source": [
    "## Prepare Data for Processing\n",
    "\n",
    "Both, `MSstatsPrepareForDataProcess()` and `MSstatsPrepareForSummarizationTMT()` are internal methods of `MSstats` and `MSstatsTMT`, respectively. They are called in the process of `dataProcess()` (`MSstats`) and `proteinSummarization()` (`MSstatsTMT`). Here, they are called outside of these methods as they provide the data just before normalization which is required to plot the effect of said normalization."
   ]
  },
  {
   "cell_type": "code",
   "execution_count": null,
   "id": "5f9177cb-f5de-46d1-9ef8-cb98a66ff5d8",
   "metadata": {
    "vscode": {
     "languageId": "r"
    }
   },
   "outputs": [],
   "source": [
    "MSstatsConvert::MSstatsLogsSettings(\n",
    "  use_log_file = TRUE,\n",
    "  append = FALSE,\n",
    "  verbose = TRUE,\n",
    "  base = \"logs/MSstats_prepareDataProcess_log_\",\n",
    "  pkg_name = \"MSstats\"\n",
    ")\n",
    "\n",
    "lfqData_beforeSummarization <- MSstats:::MSstatsPrepareForDataProcess(\n",
    "  # Default parameters used in dataProcess (https://github.com/Vitek-Lab/MSstats/blob/devel/R/dataProcess.R)\n",
    "  lfqPsm_formattedData_filtered,\n",
    "  log_base = 2,\n",
    "  fix_missing = NULL\n",
    ")"
   ]
  },
  {
   "cell_type": "code",
   "execution_count": null,
   "id": "6547b828-d99e-41ce-afe9-eb1fced63387",
   "metadata": {
    "vscode": {
     "languageId": "r"
    }
   },
   "outputs": [],
   "source": [
    "MSstatsConvert::MSstatsLogsSettings(\n",
    "  use_log_file = TRUE,\n",
    "  append = FALSE,\n",
    "  verbose = TRUE,\n",
    "  base = \"logs/MSstatsTMT_prepareSummarization_log_\",\n",
    "  pkg_name = \"MSstatsTMT\"\n",
    ")\n",
    "\n",
    "lbqData_beforeSummarization <- MSstatsTMT:::MSstatsPrepareForSummarizationTMT(\n",
    "  # Default parameters used in proteinSummarization (https://github.com/Vitek-Lab/MSstatsTMT/blob/devel/R/proteinSummarization.R)\n",
    "  lbqPsm_formattedData_filtered,\n",
    "  method = \"msstats\",\n",
    "  global_norm = TRUE,\n",
    "  reference_norm = FALSE,\n",
    "  remove_norm_channel = TRUE,\n",
    "  remove_empty_channel = TRUE,\n",
    "  MBimpute = TRUE,\n",
    "  maxQuantileforCensored = NULL\n",
    ")"
   ]
  },
  {
   "cell_type": "markdown",
   "id": "1255fbc1-58b7-428a-aff1-f8394c80019e",
   "metadata": {},
   "source": [
    "## Perform MSstats Data Processing"
   ]
  },
  {
   "cell_type": "code",
   "execution_count": null,
   "id": "597bf699-6758-4a4c-96ba-f410851a2d6a",
   "metadata": {
    "vscode": {
     "languageId": "r"
    }
   },
   "outputs": [],
   "source": [
    "# Default parameters used in dataProcess() (https://github.com/Vitek-Lab/MSstats/blob/devel/R/dataProcess.R)\n",
    "#\n",
    "# raw,\n",
    "# logTrans = 2,\n",
    "# normalization = \"equalizeMedians\",\n",
    "# nameStandards = NULL,\n",
    "# featureSubset = \"all\",\n",
    "# remove_uninformative_feature_outlier = FALSE,\n",
    "# min_feature_count = 2,\n",
    "# n_top_feature = 3,\n",
    "# summaryMethod = \"TMP\",\n",
    "# equalFeatureVar = TRUE,\n",
    "# censoredInt = \"NA\",\n",
    "# MBimpute = TRUE,\n",
    "# remove50missing = FALSE,\n",
    "# fix_missing = NULL,\n",
    "# maxQuantileforCensored = 0.999,\n",
    "# use_log_file = TRUE,\n",
    "# append = FALSE,\n",
    "# verbose = TRUE,\n",
    "# log_file_path = NULL,\n",
    "# numberOfCores = 1\n",
    "\n",
    "lfqData_afterSummarization <- MSstats::dataProcess(lfqPsm_formattedData_filtered,\n",
    "                                                   use_log_file = TRUE,\n",
    "                                                   log_file_path = \"logs/dataProcess.log\")\n",
    "\n",
    "lfqData_afterSummarization$ProteinLevelData <- lfqData_afterSummarization$ProteinLevelData %>%\n",
    "  mutate(originalRUN = factor(originalRUN, levels = run_levels))"
   ]
  },
  {
   "cell_type": "code",
   "execution_count": null,
   "id": "ee6e7689-bdc2-4181-bd0f-7ebdd9583748",
   "metadata": {
    "vscode": {
     "languageId": "r"
    }
   },
   "outputs": [],
   "source": [
    "# Default parameters used in proteinSummarization() (https://github.com/Vitek-Lab/MSstatsTMT/blob/devel/R/proteinSummarization.R)\n",
    "#\n",
    "# data,\n",
    "# method = 'msstats',\n",
    "# global_norm = TRUE,\n",
    "# reference_norm = TRUE,\n",
    "# remove_norm_channel = TRUE,\n",
    "# remove_empty_channel = TRUE,\n",
    "# MBimpute = TRUE,\n",
    "# maxQuantileforCensored = NULL,\n",
    "# use_log_file = TRUE,\n",
    "# append = FALSE,\n",
    "# verbose = TRUE,\n",
    "# log_file_path = NULL,\n",
    "# msstats_log_path = NULL\n",
    "\n",
    "lbqData_afterSummarization <- MSstatsTMT::proteinSummarization(\n",
    "  lbqPsm_formattedData_filtered,\n",
    "  reference_norm = FALSE,\n",
    "  use_log_file = TRUE,\n",
    "  log_file_path = \"logs/proteinSummarization.log\"\n",
    ")"
   ]
  },
  {
   "cell_type": "markdown",
   "id": "8cdc5cdb-d00a-457b-a6b6-f69e4476cd51",
   "metadata": {},
   "source": [
    "## Visualize Normalization Effect"
   ]
  },
  {
   "cell_type": "code",
   "execution_count": null,
   "id": "649f934d-0a89-4711-a504-089645229cff",
   "metadata": {
    "vscode": {
     "languageId": "r"
    }
   },
   "outputs": [],
   "source": [
    "source(\"helpers/normalization.R\")"
   ]
  },
  {
   "cell_type": "code",
   "execution_count": null,
   "id": "3a9b0d59-806e-4269-b052-fa9108a79438",
   "metadata": {
    "vscode": {
     "languageId": "r"
    }
   },
   "outputs": [],
   "source": [
    "lfq_abundance_density_data <- get_abundance_density_data(\n",
    "  lfqData_beforeSummarization,\n",
    "  lfqData_afterSummarization$FeatureLevelData,\n",
    "  originalRUN,\n",
    "  originalRUN,\n",
    "  run_levels,\n",
    "  ABUNDANCE,\n",
    "  newABUNDANCE,\n",
    "  \"LFQ\"\n",
    ")\n",
    "lbq_abundance_density_data <- get_abundance_density_data(\n",
    "  lbqData_beforeSummarization,\n",
    "  lbqData_afterSummarization$FeatureLevelData,\n",
    "  Channel,\n",
    "  Channel,\n",
    "  channel_levels,\n",
    "  log2Intensity,\n",
    "  log2Intensity,\n",
    "  \"LBQ\"\n",
    ")\n",
    "\n",
    "abundance_density_combined <- get_complete_abundance_density_plot(lfq_abundance_density_data, lbq_abundance_density_data)\n",
    "\n",
    "save_and_show_plot(\n",
    "  \"abundance_density_combined\",\n",
    "  abundance_density_combined,\n",
    "  plot_width = 120,\n",
    "  plot_height = 100\n",
    ")"
   ]
  },
  {
   "cell_type": "markdown",
   "id": "f2f1f017-f36a-4bbc-a880-cde4a86c367e",
   "metadata": {},
   "source": [
    "## Dynamic Range"
   ]
  },
  {
   "cell_type": "code",
   "execution_count": null,
   "id": "b7eb4f04-cb3b-486b-904c-8031fa46614e",
   "metadata": {
    "vscode": {
     "languageId": "r"
    }
   },
   "outputs": [],
   "source": [
    "source(\"helpers/dynamic_range.R\")"
   ]
  },
  {
   "cell_type": "code",
   "execution_count": null,
   "id": "5960af75-7197-4a91-8ec5-dad5f3f16660",
   "metadata": {
    "vscode": {
     "languageId": "r"
    }
   },
   "outputs": [],
   "source": [
    "dynamicRange_data <- get_dynamic_range_data(\n",
    "  lfqData_afterSummarization$ProteinLevelData,\n",
    "  lbqData_afterSummarization$ProteinLevelData\n",
    ")\n",
    "dynamicRange_plot <- get_dynamic_range_plot(dynamicRange_data)\n",
    "\n",
    "save_and_show_plot(\n",
    "  \"dynamicRange_plot\",\n",
    "  dynamicRange_plot,\n",
    "  plot_width = 80,\n",
    "  plot_height = 50\n",
    ")"
   ]
  },
  {
   "cell_type": "code",
   "execution_count": null,
   "id": "2982d8ae-7a0c-4adc-b312-e694843e03bc",
   "metadata": {
    "vscode": {
     "languageId": "r"
    }
   },
   "outputs": [],
   "source": [
    "lfq <- dynamicRange_data %>% dplyr::filter(Source == \"LFQ\") %>% pull(Abundance)\n",
    "lbq <- dynamicRange_data %>% dplyr::filter(Source == \"LBQ\") %>% pull(Abundance)\n",
    "\n",
    "lfq_min <- min(lfq)\n",
    "lfq_max <- max(lfq)\n",
    "cat(sprintf(\"Difference between the min and the max: %.2f\\n\", lfq_max -\n",
    "              lfq_min))\n",
    "\n",
    "lfq_q1 <- quantile(lfq, 0.05, na.rm = TRUE)\n",
    "lfq_q3 <- quantile(lfq, 0.95, na.rm = TRUE)\n",
    "cat(\n",
    "  sprintf(\n",
    "    \"Difference between the 5 %% quantile and the 95 %% quantile: %.2f\\n\\n\",\n",
    "    lfq_q3 - lfq_q1\n",
    "  )\n",
    ")\n",
    "\n",
    "lbq_min <- min(lbq)\n",
    "lbq_max <- max(lbq)\n",
    "cat(sprintf(\"Difference between the min and the max: %.2f\\n\", lbq_max -\n",
    "              lbq_min))\n",
    "\n",
    "lbq_q1 <- quantile(lbq, 0.05, na.rm = TRUE)\n",
    "lbq_q3 <- quantile(lbq, 0.95, na.rm = TRUE)\n",
    "cat(\n",
    "  sprintf(\n",
    "    \"Difference between the 5 %% quantile and the 95 %% quantile: %.2f\\n\\n\",\n",
    "    lbq_q3 - lbq_q1\n",
    "  )\n",
    ")"
   ]
  },
  {
   "cell_type": "markdown",
   "id": "55a45ff8-8ae6-4ec3-9477-5a249628d822",
   "metadata": {},
   "source": [
    "## Group comparisons"
   ]
  },
  {
   "cell_type": "code",
   "execution_count": null,
   "id": "b11f4e97-93f4-4d1d-b6ae-60836b918044",
   "metadata": {
    "vscode": {
     "languageId": "r"
    }
   },
   "outputs": [],
   "source": [
    "source(\"helpers/group_comparison.R\")"
   ]
  },
  {
   "cell_type": "code",
   "execution_count": null,
   "id": "9177be86-95b4-45bf-8fe5-5e81c27e22c0",
   "metadata": {
    "scrolled": true,
    "vscode": {
     "languageId": "r"
    }
   },
   "outputs": [],
   "source": [
    "comparison_matrix <- matrix(\n",
    "  c(1, 0, 0, 0, 0, -1,  # EE vs DMSO\n",
    "    0, 1, 0, 0, 0, -1,  # LNG vs DMSO\n",
    "    0, 0, 1, 0, 0, -1,  # EE+LNG vs DMSO\n",
    "    0, 0, 0, 1, 0, -1,  # S-23 vs DMSO\n",
    "    0, 0, 0, 0, 1, -1   # CTRL vs DMSO\n",
    "  ),\n",
    "  nrow = 5, byrow = TRUE\n",
    ")\n",
    "\n",
    "rownames(comparison_matrix) <- c(\"EE_vs_DMSO\",\n",
    "                                 \"LNG_vs_DMSO\",\n",
    "                                 \"EE+LNG_vs_DMSO\",\n",
    "                                 \"S-23_vs_DMSO\",\n",
    "                                 \"CTRL_vs_DMSO\")\n",
    "colnames(comparison_matrix) <- c(\"EE\", \"LNG\", \"EE+LNG\", \"S-23\", \"CTRL\", \"DMSO\")"
   ]
  },
  {
   "cell_type": "code",
   "execution_count": null,
   "id": "91d7193a-e883-48a0-8866-ddcd82c3b851",
   "metadata": {
    "vscode": {
     "languageId": "r"
    }
   },
   "outputs": [],
   "source": [
    "# Default parameters used in groupComparison() (https://github.com/Vitek-Lab/MSstats/blob/devel/R/groupComparison.R)\n",
    "#\n",
    "# contrast.matrix,\n",
    "# data,\n",
    "# save_fitted_models = TRUE,\n",
    "# log_base = 2,\n",
    "# use_log_file = TRUE,\n",
    "# append = FALSE,\n",
    "# verbose = TRUE,\n",
    "# log_file_path = NULL,\n",
    "# numberOfCores = 1\n",
    "\n",
    "lfqModel <- MSstats::groupComparison(\n",
    "  contrast.matrix = comparison_matrix,\n",
    "  data = lfqData_afterSummarization,\n",
    "  use_log_file = TRUE,\n",
    "  log_file_path = \"logs/groupComparison.log\"\n",
    ")"
   ]
  },
  {
   "cell_type": "code",
   "execution_count": null,
   "id": "a14c68f5-f2f3-4c2c-aace-9508ceb1617e",
   "metadata": {
    "vscode": {
     "languageId": "r"
    }
   },
   "outputs": [],
   "source": [
    "# Default parameters used in groupComparisonTMT() (https://github.com/Vitek-Lab/MSstatsTMT/blob/devel/R/groupComparisonTMT.R)\n",
    "#\n",
    "# data,\n",
    "# contrast.matrix = \"pairwise\",\n",
    "# moderated = FALSE,\n",
    "# adj.method = \"BH\",\n",
    "# remove_norm_channel = TRUE,\n",
    "# remove_empty_channel = TRUE,\n",
    "# save_fitted_models = FALSE,\n",
    "# use_log_file = TRUE,\n",
    "# append = FALSE,\n",
    "# verbose = TRUE,\n",
    "# log_file_path = NULL\n",
    "\n",
    "lbqModel <- MSstatsTMT::groupComparisonTMT(\n",
    "  contrast.matrix = comparison_matrix,\n",
    "  data = lbqData_afterSummarization,\n",
    "  moderated = TRUE,\n",
    "  use_log_file = TRUE,\n",
    "  log_file_path = \"logs/groupComparisonTMT.log\"\n",
    ")"
   ]
  },
  {
   "cell_type": "code",
   "execution_count": null,
   "id": "75ffa4e2-0ce4-4636-8cdb-afb0bebd2b82",
   "metadata": {
    "vscode": {
     "languageId": "r"
    }
   },
   "outputs": [],
   "source": [
    "lfqModel$ComparisonResult <- lfqModel$ComparisonResult %>%\n",
    "  dplyr::filter(!is.infinite(log2FC)) %>%\n",
    "  dplyr::filter(!is.na(log2FC)) %>%\n",
    "  mutate(LabelFactor = factor(Label, levels = names(conditionLabels)))"
   ]
  },
  {
   "cell_type": "code",
   "execution_count": null,
   "id": "dee3079c-d7ed-4aad-a039-31019ad158e1",
   "metadata": {
    "vscode": {
     "languageId": "r"
    }
   },
   "outputs": [],
   "source": [
    "lbqModel$ComparisonResult <- lbqModel$ComparisonResult %>%\n",
    "  dplyr::filter(!is.infinite(log2FC)) %>%\n",
    "  dplyr::filter(!is.na(log2FC)) %>%\n",
    "  mutate(LabelFactor = factor(Label, levels = names(conditionLabels)))"
   ]
  },
  {
   "cell_type": "markdown",
   "id": "578b7a30-4e20-4500-9ae1-8815cee7d5dc",
   "metadata": {},
   "source": [
    "### DAP Overlap"
   ]
  },
  {
   "cell_type": "code",
   "execution_count": null,
   "id": "0bccd165-b7ae-461d-9606-5db8960495f8",
   "metadata": {
    "vscode": {
     "languageId": "r"
    }
   },
   "outputs": [],
   "source": [
    "venn_diagrams <- get_venn_diagram_plot(\n",
    "  lfqModel$ComparisonResult,\n",
    "  lbqModel$ComparisonResult,\n",
    "  lfqData_afterSummarization$ProteinLevelData,\n",
    "  lbqData_afterSummarization$ProteinLevelData\n",
    ")\n",
    "\n",
    "save_and_show_plot(\n",
    "  \"venn_diagrams\",\n",
    "  venn_diagrams,\n",
    "  plot_width = 120,\n",
    "  plot_height = 77\n",
    ")"
   ]
  },
  {
   "cell_type": "markdown",
   "id": "0e995390-ff87-4423-8965-02f167add4ef",
   "metadata": {},
   "source": [
    "### Fold Change Density"
   ]
  },
  {
   "cell_type": "code",
   "execution_count": null,
   "id": "c785a0a1-5081-4ab5-a798-fc696e2726c8",
   "metadata": {
    "vscode": {
     "languageId": "r"
    }
   },
   "outputs": [],
   "source": [
    "lfq_fold_change_stats <- get_fold_change_stats(lfqModel$ComparisonResult)\n",
    "lbq_fold_change_stats <- get_fold_change_stats(lbqModel$ComparisonResult)\n",
    "\n",
    "combined_fold_change_density <- get_combined_fold_change_density_plot(\n",
    "  lfqModel$ComparisonResult,\n",
    "  lfq_fold_change_stats,\n",
    "  lbqModel$ComparisonResult,\n",
    "  lbq_fold_change_stats\n",
    ")\n",
    "\n",
    "save_and_show_plot(\n",
    "  \"combined_foldChangeDensity\",\n",
    "  combined_fold_change_density,\n",
    "  plot_width = 170,\n",
    "  plot_height = 90\n",
    ")"
   ]
  },
  {
   "cell_type": "markdown",
   "id": "46bd80ca-5278-4958-90c0-70e170c47448",
   "metadata": {},
   "source": [
    "### Volcano Plots"
   ]
  },
  {
   "cell_type": "code",
   "execution_count": null,
   "id": "c84387e2-97ca-4e94-827b-0f8d5f6902d3",
   "metadata": {
    "vscode": {
     "languageId": "r"
    }
   },
   "outputs": [],
   "source": [
    "combined_volcanoPlots <- get_combined_volcano_plot(\n",
    "  lfqModel$ComparisonResult,\n",
    "  lfq_fdr_cutoff,\n",
    "  lbqModel$ComparisonResult,\n",
    "  lbq_fdr_cutoff\n",
    ")\n",
    "\n",
    "save_and_show_plot(\n",
    "  \"combined_volcanoPlots\",\n",
    "  combined_volcanoPlots,\n",
    "  plot_width = 170,\n",
    "  plot_height = 90\n",
    ")"
   ]
  },
  {
   "cell_type": "code",
   "execution_count": null,
   "id": "d9416f30-9644-4cf0-90d8-2afbfc3162d2",
   "metadata": {
    "vscode": {
     "languageId": "r"
    }
   },
   "outputs": [],
   "source": [
    "lfq_significance_barchart_data <- get_significant_proteins_amount_data(lfqModel$ComparisonResult, lfq_fdr_cutoff)\n",
    "lbq_significance_barchart_data <- get_significant_proteins_amount_data(lbqModel$ComparisonResult, lbq_fdr_cutoff)\n",
    "\n",
    "combined_significance_barchart <- get_combined_significance_barchart(lfq_significance_barchart_data,\n",
    "                                                                     lbq_significance_barchart_data)\n",
    "\n",
    "save_and_show_plot(\n",
    "  \"combined_significanceBarchart\",\n",
    "  combined_significance_barchart,\n",
    "  plot_width = 170,\n",
    "  plot_height = 90\n",
    ")"
   ]
  },
  {
   "cell_type": "markdown",
   "id": "9c308d02-b427-4953-9598-2671ac4d55a5",
   "metadata": {},
   "source": [
    "### Filter Proteins based on log2FC"
   ]
  },
  {
   "cell_type": "code",
   "execution_count": null,
   "id": "07b1b24d-6db3-4e03-8a9a-ab243902894a",
   "metadata": {
    "vscode": {
     "languageId": "r"
    }
   },
   "outputs": [],
   "source": [
    "lfqDap_subset <- get_log2fc_and_pvalue_filtered_data(lfqModel$ComparisonResult,\n",
    "                                                     lfq_fold_change_stats,\n",
    "                                                     lfq_fdr_cutoff)\n",
    "\n",
    "lbqDap_subset <- get_log2fc_and_pvalue_filtered_data(lbqModel$ComparisonResult,\n",
    "                                                     lbq_fold_change_stats,\n",
    "                                                     lbq_fdr_cutoff)"
   ]
  },
  {
   "cell_type": "markdown",
   "id": "5a05f9b5-a664-4193-a985-5cf76d476aef",
   "metadata": {},
   "source": [
    "### Filtered DAP Overlap"
   ]
  },
  {
   "cell_type": "code",
   "execution_count": null,
   "id": "b1d99a43-0f3f-4cbf-a694-4a5f52dfc461",
   "metadata": {
    "vscode": {
     "languageId": "r"
    }
   },
   "outputs": [],
   "source": [
    "filtered_venn_diagrams <- get_venn_diagram_plot(lfqDap_subset, lbqDap_subset)\n",
    "\n",
    "save_and_show_plot(\n",
    "  \"filtered_venn_diagrams\",\n",
    "  filtered_venn_diagrams,\n",
    "  plot_width = 120,\n",
    "  plot_height = 77\n",
    ")"
   ]
  },
  {
   "cell_type": "markdown",
   "id": "c982634a-684b-4bca-8b9f-a7d1ede01646",
   "metadata": {},
   "source": [
    "### Principal Component Analysis"
   ]
  },
  {
   "cell_type": "code",
   "execution_count": null,
   "id": "9a2864be-3e95-437c-989c-3f8139d6d79d",
   "metadata": {
    "vscode": {
     "languageId": "r"
    }
   },
   "outputs": [],
   "source": [
    "source(\"helpers/pca.R\")"
   ]
  },
  {
   "cell_type": "markdown",
   "id": "4984703d-38d0-446f-9cb9-20f04992db25",
   "metadata": {},
   "source": [
    "#### All DAPs"
   ]
  },
  {
   "cell_type": "code",
   "execution_count": null,
   "id": "c4182b84-d618-4f3b-a3a7-6fe060f852cc",
   "metadata": {
    "vscode": {
     "languageId": "r"
    }
   },
   "outputs": [],
   "source": [
    "lfqData_pcaData <- get_pca_data(lfqData_afterSummarization$ProteinLevelData,\n",
    "                                lfqAnnotation,\n",
    "                                \"LFQ\")"
   ]
  },
  {
   "cell_type": "code",
   "execution_count": null,
   "id": "0d4cc86b-d2be-4004-ae23-88984e790a5b",
   "metadata": {
    "vscode": {
     "languageId": "r"
    }
   },
   "outputs": [],
   "source": [
    "lfqPcaPlot_1.2_plots <- get_pca_plots(lfqData_pcaData, PC1, PC2, \"LFQ\")\n",
    "\n",
    "save_and_show_plot(\n",
    "  \"lfqPcaPlot_1.2_plots\",\n",
    "  lfqPcaPlot_1.2_plots,\n",
    "  plot_width = 60\n",
    ")"
   ]
  },
  {
   "cell_type": "code",
   "execution_count": null,
   "id": "1f6dd008-74ac-43d5-9516-0330717aaff7",
   "metadata": {
    "vscode": {
     "languageId": "r"
    }
   },
   "outputs": [],
   "source": [
    "lbqData_pcaData <- get_pca_data(lbqData_afterSummarization$ProteinLevelData,\n",
    "                                lbqAnnotation,\n",
    "                                \"LBQ\")"
   ]
  },
  {
   "cell_type": "code",
   "execution_count": null,
   "id": "59f828d8-c95b-433d-864e-4e4b60ec7f17",
   "metadata": {
    "vscode": {
     "languageId": "r"
    }
   },
   "outputs": [],
   "source": [
    "lbqPcaPlot_1.2_plots <- get_pca_plots(lbqData_pcaData, PC1, PC2, \"LBQ\")\n",
    "\n",
    "save_and_show_plot(\n",
    "  \"lbqPcaPlot_1.2_plots\",\n",
    "  lbqPcaPlot_1.2_plots,\n",
    "  plot_width = 110\n",
    ")"
   ]
  },
  {
   "cell_type": "code",
   "execution_count": null,
   "id": "6045a69b-76ad-43d0-b5af-7b4e9fc92c7e",
   "metadata": {
    "vscode": {
     "languageId": "r"
    }
   },
   "outputs": [],
   "source": [
    "lbqPcaPlot_3.4_plots <- get_pca_plots(lbqData_pcaData, PC3, PC4, \"LBQ\")\n",
    "\n",
    "save_and_show_plot(\n",
    "  \"lbqPcaPlot_3.4_plots\",\n",
    "  lbqPcaPlot_3.4_plots,\n",
    "  plot_width = 120\n",
    ")"
   ]
  },
  {
   "cell_type": "markdown",
   "id": "9f960437-e705-4f7f-844c-d468e86cc49c",
   "metadata": {},
   "source": [
    "## Method Comparison"
   ]
  },
  {
   "cell_type": "code",
   "execution_count": null,
   "id": "3c925fa8-f48b-44fc-8757-1cb162796aa3",
   "metadata": {
    "vscode": {
     "languageId": "r"
    }
   },
   "outputs": [],
   "source": [
    "combined_dap_correlation_plots <- get_combined_correlation_scatter_plot(\n",
    "  lfqModel$ComparisonResult,\n",
    "  lbqModel$ComparisonResult,\n",
    "  lfq_fdr_cutoff,\n",
    "  lbq_fdr_cutoff,\n",
    "  lfqDap_subset,\n",
    "  lbqDap_subset,\n",
    "  lfq_fdr_cutoff,\n",
    "  lbq_fdr_cutoff\n",
    ")\n",
    "\n",
    "save_and_show_plot(\n",
    "  \"combined_dap_correlation_plots\",\n",
    "  combined_dap_correlation_plots,\n",
    "  plot_width = 120,\n",
    "  plot_height = 95\n",
    ")"
   ]
  },
  {
   "cell_type": "markdown",
   "id": "282c038b-ab28-4a9b-aa37-9cf2549b860f",
   "metadata": {},
   "source": [
    "### DAP per Condition"
   ]
  },
  {
   "cell_type": "code",
   "execution_count": null,
   "id": "3c706e67-837e-4490-ab41-db9df3915cba",
   "metadata": {
    "vscode": {
     "languageId": "r"
    }
   },
   "outputs": [],
   "source": [
    "lbqDap_subset %>%\n",
    "  group_by(LabelFactor) %>%\n",
    "  summarize(No = n())"
   ]
  },
  {
   "cell_type": "markdown",
   "id": "33869017-b01d-4bbc-a000-75d57d539e24",
   "metadata": {},
   "source": [
    "#### Removal of DAPs present in CTRL vs. DMSO from other contrasts"
   ]
  },
  {
   "cell_type": "code",
   "execution_count": null,
   "id": "cdd62f7e-a342-4c67-b474-66c8dca76244",
   "metadata": {
    "vscode": {
     "languageId": "r"
    }
   },
   "outputs": [],
   "source": [
    "ctrl_dmso_proteins <- lbqDap_subset %>%\n",
    "  group_by(LabelFactor) %>%\n",
    "  dplyr::filter(LabelFactor == \"CTRL_vs_DMSO\") %>%\n",
    "  pull(Protein)\n",
    "\n",
    "lbqDap_subset <- lbqDap_subset %>%\n",
    "  dplyr::filter(!Protein %in% ctrl_dmso_proteins)"
   ]
  },
  {
   "cell_type": "markdown",
   "id": "c667cde0-62de-48fe-b46e-fd73e75348e1",
   "metadata": {},
   "source": [
    "#### Overlap"
   ]
  },
  {
   "cell_type": "code",
   "execution_count": null,
   "id": "56bab0f7-416c-431f-90ae-1e66a149a804",
   "metadata": {
    "vscode": {
     "languageId": "r"
    }
   },
   "outputs": [],
   "source": [
    "dapOverlap_allConditions_vennPlot <- get_condition_overlap_venn_diagram_plot(lbqDap_subset)\n",
    "save_and_show_plot(\n",
    "  \"dapOverlap_allConditions_vennPlot\",\n",
    "  dapOverlap_allConditions_vennPlot,\n",
    "  plot_width = 50,\n",
    "  plot_height = 35\n",
    ")\n",
    "\n",
    "lbqDap_subset %>% group_by(LabelFactor) %>% summarize(No = n())"
   ]
  },
  {
   "cell_type": "markdown",
   "id": "7ea5504b-9a8a-4597-a81b-fd6a8fe230af",
   "metadata": {},
   "source": [
    "## Enrichment Analysis"
   ]
  },
  {
   "cell_type": "code",
   "execution_count": null,
   "id": "a96f7640-80db-45f0-8a4e-2041f7262185",
   "metadata": {
    "vscode": {
     "languageId": "r"
    }
   },
   "outputs": [],
   "source": [
    "source(\"helpers/enrichment_analysis.R\")"
   ]
  },
  {
   "cell_type": "code",
   "execution_count": null,
   "id": "4944b44f-2bdb-4074-9c17-2c190429527f",
   "metadata": {
    "vscode": {
     "languageId": "r"
    }
   },
   "outputs": [],
   "source": [
    "background_gene_list <- get_genes_from_proteins(lbqModel$ComparisonResult)"
   ]
  },
  {
   "cell_type": "code",
   "execution_count": null,
   "id": "6cf90e1e-c448-4c83-a4c5-4235e54fb9a5",
   "metadata": {
    "vscode": {
     "languageId": "r"
    }
   },
   "outputs": [],
   "source": [
    "# Only use the top-200 proteins per contrast for enrichment analyses\n",
    "lbq_enrichment_data <- lbqDap_subset %>%\n",
    "  group_by(Label) %>%\n",
    "  arrange(adj.pvalue) %>%\n",
    "  slice_head(n = 200) %>%\n",
    "  ungroup"
   ]
  },
  {
   "cell_type": "code",
   "execution_count": null,
   "id": "78dead29-1e5f-4dad-a075-f6631126cdc9",
   "metadata": {
    "vscode": {
     "languageId": "r"
    }
   },
   "outputs": [],
   "source": [
    "lbq_enrichment_data_vennPlot <- get_condition_overlap_venn_diagram_plot(lbq_enrichment_data)\n",
    "\n",
    "save_and_show_plot(\n",
    "  \"lbq_enrichment_data_vennPlot\",\n",
    "  lbq_enrichment_data_vennPlot,\n",
    "  plot_width = 50,\n",
    "  plot_height = 35\n",
    ")"
   ]
  },
  {
   "cell_type": "code",
   "execution_count": null,
   "id": "248a3807-583f-45b5-a6ec-0998b143e1c9",
   "metadata": {
    "vscode": {
     "languageId": "r"
    }
   },
   "outputs": [],
   "source": [
    "# Print the top-200 proteins per contrast incl. Proteome Discoverer Metadata\n",
    "\n",
    "# Read PD Protein Metadata\n",
    "lbqProteins <- read.table(\"data/LBQ/LBQ_Proteins.tsv\",\n",
    "                          sep = \"\\t\",\n",
    "                          header = TRUE)\n",
    "\n",
    "lbqProteins <- lbqProteins %>%\n",
    "  select(\n",
    "    Protein = Accession,\n",
    "    Gene = Gene.Symbol,\n",
    "    q_value = Exp.q.value.Combined,\n",
    "    Coverage = Coverage.in.Percent,\n",
    "    PSMs = Number.of.PSMs,\n",
    "    Peptides = Number.of.Peptides,\n",
    "    Unique_Peptides = Number.of.Unique.Peptides,\n",
    "    XCorr = Score.Sequest.HT.Sequest.HT\n",
    "  )\n",
    "\n",
    "ee_dmso_table <- get_formatted_top_proteins_per_label(lbq_enrichment_data, lbqProteins, \"EE_vs_DMSO\")\n",
    "save_and_show_table(\"top200_EEvsDMSO\", ee_dmso_table)\n",
    "\n",
    "lng_dmso_table <- get_formatted_top_proteins_per_label(lbq_enrichment_data, lbqProteins, \"LNG_vs_DMSO\")\n",
    "save_and_show_table(\"top200_LNGvsDMSO\", lng_dmso_table)\n",
    "\n",
    "ee.lng_dmso_table <- get_formatted_top_proteins_per_label(lbq_enrichment_data, lbqProteins, \"EE+LNG_vs_DMSO\")\n",
    "save_and_show_table(\"top200_EE+LNGvsDMSO\", ee.lng_dmso_table)\n",
    "\n",
    "s23_dmso_table <- get_formatted_top_proteins_per_label(lbq_enrichment_data, lbqProteins, \"S-23_vs_DMSO\")\n",
    "save_and_show_table(\"top200_S-23vsDMSO\", s23_dmso_table)\n",
    "\n",
    "lbq_enrichment_table <- bind_rows(ee_dmso_table,\n",
    "                                  lng_dmso_table,\n",
    "                                  ee.lng_dmso_table,\n",
    "                                  s23_dmso_table) %>%\n",
    "  select(-c(\"log2 FC\", \"adj. p-value\")) %>%\n",
    "  distinct()\n",
    "  \n",
    "save_and_show_table(\"enrichment_proteins\", lbq_enrichment_table)"
   ]
  },
  {
   "cell_type": "code",
   "execution_count": null,
   "id": "01b3cb54-b6d2-4e80-b875-18001dffc998",
   "metadata": {
    "vscode": {
     "languageId": "r"
    }
   },
   "outputs": [],
   "source": [
    "regulated_gene_list_ee.lng.eelng.s23 <- get_intersection_genes(lbq_enrichment_data, lbq_fdr_cutoff, \"EE/LNG/EE+LNG/S-23\")\n",
    "regulated_gene_list_lng.eelng.s23 <- get_intersection_genes(lbq_enrichment_data, lbq_fdr_cutoff, \"LNG/EE+LNG/S-23\")\n",
    "\n",
    "regulated_gene_list_ee_all <- get_genes_from_proteins(lbq_enrichment_data %>% dplyr::filter(Label == \"EE_vs_DMSO\"))\n",
    "regulated_gene_list_lng_all <- get_genes_from_proteins(lbq_enrichment_data %>% dplyr::filter(Label == \"LNG_vs_DMSO\"))\n",
    "regulated_gene_list_eelng_all <- get_genes_from_proteins(lbq_enrichment_data %>% dplyr::filter(Label == \"EE+LNG_vs_DMSO\"))\n",
    "regulated_gene_list_s23_all <- get_genes_from_proteins(lbq_enrichment_data %>% dplyr::filter(Label == \"S-23_vs_DMSO\"))"
   ]
  },
  {
   "cell_type": "markdown",
   "id": "768695e0-de8c-4169-bbde-6861d66f628c",
   "metadata": {},
   "source": [
    "### Gene Ontology"
   ]
  },
  {
   "cell_type": "markdown",
   "id": "c4140ac1-1ad8-4679-9332-b2a3fd973679",
   "metadata": {},
   "source": [
    "#### Intersection of EE, LNG, EE +LNG, and S-23"
   ]
  },
  {
   "cell_type": "code",
   "execution_count": null,
   "id": "f71c00cd-87dd-4b5f-b9f8-c60dfc7950ca",
   "metadata": {
    "vscode": {
     "languageId": "r"
    }
   },
   "outputs": [],
   "source": [
    "go_ee.lng.eelng.s23 <- perform_enrichment_analysis(\n",
    "  \"GO\",\n",
    "  regulated_gene_list_ee.lng.eelng.s23,\n",
    "  background_gene_list,\n",
    "  \"EE/LNG/EE+LNG/S-23\",\n",
    "  \"ee.lng.eelng.s23\"\n",
    ")"
   ]
  },
  {
   "cell_type": "markdown",
   "id": "38f87fed-c8b3-42e0-baa4-1d1a4d6a51b2",
   "metadata": {},
   "source": [
    "#### Intersection of LNG, EE + LNG, and S-23"
   ]
  },
  {
   "cell_type": "code",
   "execution_count": null,
   "id": "934cb1b1-c944-4ad1-8663-e81c8d3ef57c",
   "metadata": {
    "vscode": {
     "languageId": "r"
    }
   },
   "outputs": [],
   "source": [
    "go_lng.eelng.s23 <- perform_enrichment_analysis(\n",
    "  \"GO\",\n",
    "  regulated_gene_list_lng.eelng.s23,\n",
    "  background_gene_list,\n",
    "  \"LNG/EE+LNG/S-23\",\n",
    "  \"lng.eelng.s23\"\n",
    ")"
   ]
  },
  {
   "cell_type": "markdown",
   "id": "b65c8029-d242-4861-9908-900577aca258",
   "metadata": {},
   "source": [
    "#### EE"
   ]
  },
  {
   "cell_type": "code",
   "execution_count": null,
   "id": "2ed30605-a3e8-4e0a-8200-70757adf410b",
   "metadata": {
    "vscode": {
     "languageId": "r"
    }
   },
   "outputs": [],
   "source": [
    "go_ee <- perform_enrichment_analysis(\n",
    "  \"GO\",\n",
    "  regulated_gene_list_ee_all,\n",
    "  background_gene_list,\n",
    "  \"EE vs. DMSO\",\n",
    "  \"ee_all\"\n",
    ")"
   ]
  },
  {
   "cell_type": "markdown",
   "id": "34118ced-6dd4-4910-a382-bd3ac1020a6a",
   "metadata": {},
   "source": [
    "#### LNG"
   ]
  },
  {
   "cell_type": "code",
   "execution_count": null,
   "id": "4a941fd2-6989-43f6-8e28-81a7100fe12b",
   "metadata": {
    "vscode": {
     "languageId": "r"
    }
   },
   "outputs": [],
   "source": [
    "go_lng <- perform_enrichment_analysis(\n",
    "  \"GO\",\n",
    "  regulated_gene_list_lng_all,\n",
    "  background_gene_list,\n",
    "  \"LNG vs. DMSO\",\n",
    "  \"lng_all\"\n",
    ")"
   ]
  },
  {
   "cell_type": "markdown",
   "id": "11853f54-f20c-4419-a1a9-589029094b87",
   "metadata": {},
   "source": [
    "#### EE + LNG"
   ]
  },
  {
   "cell_type": "code",
   "execution_count": null,
   "id": "d161b67e-e96b-45fc-b4e4-8809a32083f4",
   "metadata": {
    "vscode": {
     "languageId": "r"
    }
   },
   "outputs": [],
   "source": [
    "go_eelng <- perform_enrichment_analysis(\n",
    "  \"GO\",\n",
    "  regulated_gene_list_eelng_all,\n",
    "  background_gene_list,\n",
    "  \"EE+LNG vs. DMSO\",\n",
    "  \"eelng_all\"\n",
    ")"
   ]
  },
  {
   "cell_type": "markdown",
   "id": "a6d1cdbd-8fc5-49e3-9570-537306e8048a",
   "metadata": {},
   "source": [
    "#### S-23"
   ]
  },
  {
   "cell_type": "code",
   "execution_count": null,
   "id": "7f10e2af-40bf-42cb-849a-2ea93daee475",
   "metadata": {
    "vscode": {
     "languageId": "r"
    }
   },
   "outputs": [],
   "source": [
    "go_s23 <- perform_enrichment_analysis(\n",
    "  \"GO\",\n",
    "  regulated_gene_list_s23_all,\n",
    "  background_gene_list,\n",
    "  \"S-23 vs. DMSO\",\n",
    "  \"s23_all\"\n",
    ")"
   ]
  },
  {
   "cell_type": "markdown",
   "id": "e029b610-66ad-4cd2-9121-667e27847f06",
   "metadata": {},
   "source": [
    "#### Bubble Plot"
   ]
  },
  {
   "cell_type": "code",
   "execution_count": null,
   "id": "a97d740a-a84b-4a53-b062-bd12fc71a891",
   "metadata": {
    "vscode": {
     "languageId": "r"
    }
   },
   "outputs": [],
   "source": [
    "go_results <- list(\n",
    "  go_ee.lng.eelng.s23,\n",
    "  go_lng.eelng.s23,\n",
    "  go_ee,\n",
    "  go_lng,\n",
    "  go_eelng,\n",
    "  go_s23\n",
    ")\n",
    "go_bubbleplot <- get_enrichment_bubbleplot(go_results)\n",
    "\n",
    "save_and_show_plot(\n",
    "  \"go_bubbleplot\",\n",
    "  go_bubbleplot,\n",
    "  plot_width = 120,\n",
    "  plot_height = 100\n",
    ")"
   ]
  },
  {
   "cell_type": "markdown",
   "id": "f953a2d5-4594-418d-b094-a206fd9ef7cc",
   "metadata": {},
   "source": [
    "### Kyoto Encyclopedia of Genes and Genomes"
   ]
  },
  {
   "cell_type": "markdown",
   "id": "8317f2d1-222b-494e-9b1c-9bf553c95908",
   "metadata": {},
   "source": [
    "#### Intersection of EE, LNG, EE +LNG, and S-23"
   ]
  },
  {
   "cell_type": "code",
   "execution_count": null,
   "id": "4dd7f74f-862a-4cc5-be3d-32aad42dedb1",
   "metadata": {
    "vscode": {
     "languageId": "r"
    }
   },
   "outputs": [],
   "source": [
    "kegg_ee.lng.eelng.s23 <- perform_enrichment_analysis(\n",
    "  \"KEGG\",\n",
    "  regulated_gene_list_ee.lng.eelng.s23,\n",
    "  background_gene_list,\n",
    "  \"EE/LNG/EE+LNG/S-23\",\n",
    "  \"ee.lng.eelng.s23\"\n",
    ")"
   ]
  },
  {
   "cell_type": "markdown",
   "id": "bd1816da-3c38-495f-b908-5cb73d2fb64b",
   "metadata": {},
   "source": [
    "#### Intersection of LNG, EE + LNG, and S-23"
   ]
  },
  {
   "cell_type": "code",
   "execution_count": null,
   "id": "1ee9cc5b-b322-4ed5-9ab2-52a9f1d9b2c0",
   "metadata": {
    "vscode": {
     "languageId": "r"
    }
   },
   "outputs": [],
   "source": [
    "kegg_lng.eelng.s23 <- perform_enrichment_analysis(\n",
    "  \"KEGG\",\n",
    "  regulated_gene_list_lng.eelng.s23,\n",
    "  background_gene_list,\n",
    "  \"LNG/EE+LNG/S-23\",\n",
    "  \"lng.eelng.s23\"\n",
    ")"
   ]
  },
  {
   "cell_type": "markdown",
   "id": "033cc90c-da73-484c-9065-e0545c35cba0",
   "metadata": {},
   "source": [
    "#### EE"
   ]
  },
  {
   "cell_type": "code",
   "execution_count": null,
   "id": "29b20148-2682-4c50-ab8e-939459998bdc",
   "metadata": {
    "vscode": {
     "languageId": "r"
    }
   },
   "outputs": [],
   "source": [
    "kegg_ee <- perform_enrichment_analysis(\n",
    "  \"KEGG\",\n",
    "  regulated_gene_list_ee_all,\n",
    "  background_gene_list,\n",
    "  \"EE vs. DMSO\",\n",
    "  \"ee_all\"\n",
    ")"
   ]
  },
  {
   "cell_type": "markdown",
   "id": "8f9187f3-9c53-498f-89a2-1ab4cf7e76e2",
   "metadata": {},
   "source": [
    "#### LNG"
   ]
  },
  {
   "cell_type": "code",
   "execution_count": null,
   "id": "71e0b8ce-bee4-416b-916a-4de1869284cb",
   "metadata": {
    "vscode": {
     "languageId": "r"
    }
   },
   "outputs": [],
   "source": [
    "kegg_lng <- perform_enrichment_analysis(\n",
    "  \"KEGG\",\n",
    "  regulated_gene_list_lng_all,\n",
    "  background_gene_list,\n",
    "  \"LNG vs. DMSO\",\n",
    "  \"lng_all\"\n",
    ")"
   ]
  },
  {
   "cell_type": "markdown",
   "id": "271e3a47-5142-4d44-a74b-c9bfee83e2bc",
   "metadata": {},
   "source": [
    "#### EE + LNG"
   ]
  },
  {
   "cell_type": "code",
   "execution_count": null,
   "id": "91c0bdad-1e70-4c46-957a-87a330b65206",
   "metadata": {
    "vscode": {
     "languageId": "r"
    }
   },
   "outputs": [],
   "source": [
    "kegg_eelng <- perform_enrichment_analysis(\n",
    "  \"KEGG\",\n",
    "  regulated_gene_list_eelng_all,\n",
    "  background_gene_list,\n",
    "  \"EE+LNG vs. DMSO\",\n",
    "  \"eelng_all\"\n",
    ")"
   ]
  },
  {
   "cell_type": "markdown",
   "id": "496bd26e-9561-420f-bed6-de8afe9cc3d5",
   "metadata": {},
   "source": [
    "#### S-23"
   ]
  },
  {
   "cell_type": "code",
   "execution_count": null,
   "id": "3160d71f-6551-4d33-b30a-70949d20e334",
   "metadata": {
    "vscode": {
     "languageId": "r"
    }
   },
   "outputs": [],
   "source": [
    "kegg_s23 <- perform_enrichment_analysis(\n",
    "  \"KEGG\",\n",
    "  regulated_gene_list_s23_all,\n",
    "  background_gene_list,\n",
    "  \"S-23 vs. DMSO\",\n",
    "  \"s23_all\"\n",
    ")"
   ]
  },
  {
   "cell_type": "markdown",
   "id": "0e875aee-4628-4a80-98c9-cb67538d1778",
   "metadata": {},
   "source": [
    "#### Bubble Plot"
   ]
  },
  {
   "cell_type": "code",
   "execution_count": null,
   "id": "d61116a0-caed-41e8-abc5-1e9cbd9cf54a",
   "metadata": {
    "vscode": {
     "languageId": "r"
    }
   },
   "outputs": [],
   "source": [
    "kegg_results <- list(\n",
    "  kegg_ee.lng.eelng.s23,\n",
    "  kegg_lng.eelng.s23,\n",
    "  kegg_ee,\n",
    "  kegg_lng,\n",
    "  kegg_eelng,\n",
    "  kegg_s23\n",
    ")\n",
    "kegg_bubbleplot <- get_enrichment_bubbleplot(kegg_results)\n",
    "\n",
    "save_and_show_plot(\n",
    "  \"kegg_bubbleplot\",\n",
    "  kegg_bubbleplot,\n",
    "  plot_width = 120,\n",
    "  plot_height = 100\n",
    ")"
   ]
  },
  {
   "cell_type": "markdown",
   "id": "0a805c35-bdc3-4235-8d88-658df87b717a",
   "metadata": {},
   "source": [
    "### Disease Ontology Semantic and Enrichment analysis"
   ]
  },
  {
   "cell_type": "markdown",
   "id": "e9b55660-f4ea-42ee-b9b2-824ab3ac57eb",
   "metadata": {},
   "source": [
    "#### Intersection of EE, LNG, EE +LNG, and S-23"
   ]
  },
  {
   "cell_type": "code",
   "execution_count": null,
   "id": "8e2ad7d6-71b7-4a4d-98fd-86a3459474d0",
   "metadata": {
    "vscode": {
     "languageId": "r"
    }
   },
   "outputs": [],
   "source": [
    "dose_ee.lng.eelng.s23 <- perform_enrichment_analysis(\n",
    "  \"DOSE\",\n",
    "  regulated_gene_list_ee.lng.eelng.s23,\n",
    "  background_gene_list,\n",
    "  \"EE/LNG/EE+LNG/S-23\",\n",
    "  \"ee.lng.eelng.s23\"\n",
    ")"
   ]
  },
  {
   "cell_type": "markdown",
   "id": "d715deba-1053-4203-a399-5a0b4e0449d4",
   "metadata": {},
   "source": [
    "#### Intersection of LNG, EE + LNG, and S-23"
   ]
  },
  {
   "cell_type": "code",
   "execution_count": null,
   "id": "466559dc-f0f2-4cd8-b638-5a130e45ff4b",
   "metadata": {
    "vscode": {
     "languageId": "r"
    }
   },
   "outputs": [],
   "source": [
    "dose_lng.eelng.s23 <- perform_enrichment_analysis(\n",
    "  \"DOSE\",\n",
    "  regulated_gene_list_lng.eelng.s23,\n",
    "  background_gene_list,\n",
    "  \"LNG/EE+LNG/S-23\",\n",
    "  \"lng.eelng.s23\"\n",
    ")"
   ]
  },
  {
   "cell_type": "markdown",
   "id": "b0aa264c-0a2a-48b0-9c05-45892161f5d8",
   "metadata": {},
   "source": [
    "#### EE"
   ]
  },
  {
   "cell_type": "code",
   "execution_count": null,
   "id": "6c0c6fdd-344c-41db-912a-b1835bb669e6",
   "metadata": {
    "vscode": {
     "languageId": "r"
    }
   },
   "outputs": [],
   "source": [
    "dose_ee <- perform_enrichment_analysis(\n",
    "  \"DOSE\",\n",
    "  regulated_gene_list_ee_all,\n",
    "  background_gene_list,\n",
    "  \"EE vs. DMSO\",\n",
    "  \"ee_all\"\n",
    ")"
   ]
  },
  {
   "cell_type": "markdown",
   "id": "71fa382c-8baa-41a6-add7-744f2dc88cb8",
   "metadata": {},
   "source": [
    "#### LNG"
   ]
  },
  {
   "cell_type": "code",
   "execution_count": null,
   "id": "6bb39409-b9b4-4ca2-b169-e431ed4c5a00",
   "metadata": {
    "vscode": {
     "languageId": "r"
    }
   },
   "outputs": [],
   "source": [
    "dose_lng <- perform_enrichment_analysis(\n",
    "  \"DOSE\",\n",
    "  regulated_gene_list_lng_all,\n",
    "  background_gene_list,\n",
    "  \"LNG vs. DMSO\",\n",
    "  \"lng_all\"\n",
    ")"
   ]
  },
  {
   "cell_type": "markdown",
   "id": "47c77f85-0941-4d26-abfd-cf980c645fe7",
   "metadata": {},
   "source": [
    "#### EE + LNG"
   ]
  },
  {
   "cell_type": "code",
   "execution_count": null,
   "id": "1b1f7e6a-283f-4392-9a6f-e2eb965fd707",
   "metadata": {
    "vscode": {
     "languageId": "r"
    }
   },
   "outputs": [],
   "source": [
    "dose_eelng <- perform_enrichment_analysis(\n",
    "  \"DOSE\",\n",
    "  regulated_gene_list_eelng_all,\n",
    "  background_gene_list,\n",
    "  \"EE+LNG vs. DMSO\",\n",
    "  \"eelng_all\"\n",
    ")"
   ]
  },
  {
   "cell_type": "markdown",
   "id": "686456f4-8320-4efc-b763-bcdadf8f9c0c",
   "metadata": {},
   "source": [
    "#### S-23"
   ]
  },
  {
   "cell_type": "code",
   "execution_count": null,
   "id": "59a58110-4ce3-43fb-870e-a63169f3c281",
   "metadata": {
    "vscode": {
     "languageId": "r"
    }
   },
   "outputs": [],
   "source": [
    "dose_s23 <- perform_enrichment_analysis(\n",
    "  \"DOSE\",\n",
    "  regulated_gene_list_s23_all,\n",
    "  background_gene_list,\n",
    "  \"S-23 vs. DMSO\",\n",
    "  \"s23_all\"\n",
    ")"
   ]
  },
  {
   "cell_type": "markdown",
   "id": "300d5ad3-163b-4a66-a1a9-f7aeac97d132",
   "metadata": {},
   "source": [
    "#### Bubble Plot"
   ]
  },
  {
   "cell_type": "code",
   "execution_count": null,
   "id": "f3da424e-0df0-4dc1-a62c-274a8c65c8bc",
   "metadata": {
    "vscode": {
     "languageId": "r"
    }
   },
   "outputs": [],
   "source": [
    "highlighted_terms <- c(\"Major Depressive Disorder\",\n",
    "                       \"Unipolar Depression\",\n",
    "                       \"Bipolar Depression\")\n",
    "\n",
    "dose_results <- list(\n",
    "  dose_ee.lng.eelng.s23,\n",
    "  dose_lng.eelng.s23,\n",
    "  dose_ee,\n",
    "  dose_lng,\n",
    "  dose_eelng,\n",
    "  dose_s23\n",
    ")\n",
    "dose_bubbleplot <- get_enrichment_bubbleplot(dose_results, highlighted_terms)\n",
    "\n",
    "save_and_show_plot(\n",
    "  \"dose_bubbleplot\",\n",
    "  dose_bubbleplot,\n",
    "  plot_width = 120,\n",
    "  plot_height = 100\n",
    ")"
   ]
  },
  {
   "cell_type": "markdown",
   "id": "85b34144-6874-4424-9989-6f83e98a15f8",
   "metadata": {},
   "source": [
    "### DISGENET"
   ]
  },
  {
   "cell_type": "markdown",
   "id": "8e8635ec-9e75-4942-9df0-f7a603123418",
   "metadata": {},
   "source": [
    "#### Intersection of EE, LNG, EE +LNG, and S-23"
   ]
  },
  {
   "cell_type": "code",
   "execution_count": null,
   "id": "372275cb-1d6e-434e-a407-d4295d8cc757",
   "metadata": {
    "vscode": {
     "languageId": "r"
    }
   },
   "outputs": [],
   "source": [
    "disgenet_ee.lng.eelng.s23 <- perform_enrichment_analysis(\n",
    "  \"DISGENET\",\n",
    "  regulated_gene_list_ee.lng.eelng.s23,\n",
    "  background_gene_list,\n",
    "  \"EE/LNG/EE+LNG/S-23\",\n",
    "  \"ee.lng.eelng.s23\"\n",
    ")"
   ]
  },
  {
   "cell_type": "markdown",
   "id": "68a3def1-e01b-41a0-b698-e498c2f6ab1e",
   "metadata": {},
   "source": [
    "#### Intersection of LNG, EE + LNG, and S-23"
   ]
  },
  {
   "cell_type": "code",
   "execution_count": null,
   "id": "28ec79f4-7ec2-43d9-8230-999ae05dec27",
   "metadata": {
    "vscode": {
     "languageId": "r"
    }
   },
   "outputs": [],
   "source": [
    "disgenet_lng.eelng.s23 <- perform_enrichment_analysis(\n",
    "  \"DISGENET\",\n",
    "  regulated_gene_list_lng.eelng.s23,\n",
    "  background_gene_list,\n",
    "  \"LNG/EE+LNG/S-23\",\n",
    "  \"lng.eelng.s23\"\n",
    ")"
   ]
  },
  {
   "cell_type": "markdown",
   "id": "7cf3829f-07dc-4acf-9f69-bfee8adb32c2",
   "metadata": {},
   "source": [
    "#### EE"
   ]
  },
  {
   "cell_type": "code",
   "execution_count": null,
   "id": "a5567107-e955-40aa-b768-0995c37adbee",
   "metadata": {
    "vscode": {
     "languageId": "r"
    }
   },
   "outputs": [],
   "source": [
    "disgenet_ee <- perform_enrichment_analysis(\n",
    "  \"DISGENET\",\n",
    "  regulated_gene_list_ee_all,\n",
    "  background_gene_list,\n",
    "  \"EE vs. DMSO\",\n",
    "  \"ee_all\"\n",
    ")"
   ]
  },
  {
   "cell_type": "markdown",
   "id": "b935822a-8ea3-4ce3-876a-3faf1acfca7c",
   "metadata": {},
   "source": [
    "#### LNG"
   ]
  },
  {
   "cell_type": "code",
   "execution_count": null,
   "id": "782a8b79-10b7-4a74-8ad3-6ff9fc1b458d",
   "metadata": {
    "vscode": {
     "languageId": "r"
    }
   },
   "outputs": [],
   "source": [
    "disgenet_lng <- perform_enrichment_analysis(\n",
    "  \"DISGENET\",\n",
    "  regulated_gene_list_lng_all,\n",
    "  background_gene_list,\n",
    "  \"LNG vs. DMSO\",\n",
    "  \"lng_all\"\n",
    ")"
   ]
  },
  {
   "cell_type": "markdown",
   "id": "7131dbe9-b965-415a-bca2-816f74b9b688",
   "metadata": {},
   "source": [
    "#### EE + LNG"
   ]
  },
  {
   "cell_type": "code",
   "execution_count": null,
   "id": "d73169d8-473e-4d13-bb67-dadbeafe672e",
   "metadata": {
    "vscode": {
     "languageId": "r"
    }
   },
   "outputs": [],
   "source": [
    "disgenet_eelng <- perform_enrichment_analysis(\n",
    "  \"DISGENET\",\n",
    "  regulated_gene_list_eelng_all,\n",
    "  background_gene_list,\n",
    "  \"EE+LNG vs. DMSO\",\n",
    "  \"eelng_all\"\n",
    ")"
   ]
  },
  {
   "cell_type": "markdown",
   "id": "68932781-2cdc-41e3-9dac-4c38821646f4",
   "metadata": {},
   "source": [
    "#### S-23"
   ]
  },
  {
   "cell_type": "code",
   "execution_count": null,
   "id": "8a606c62-c78d-490f-a3e1-5bcb75e5041e",
   "metadata": {
    "vscode": {
     "languageId": "r"
    }
   },
   "outputs": [],
   "source": [
    "disgenet_s23 <- perform_enrichment_analysis(\n",
    "  \"DISGENET\",\n",
    "  regulated_gene_list_s23_all,\n",
    "  background_gene_list,\n",
    "  \"S-23 vs. DMSO\",\n",
    "  \"s23_all\"\n",
    ")"
   ]
  },
  {
   "cell_type": "markdown",
   "id": "30ca0277-bf44-4889-9a34-9e3414feca98",
   "metadata": {},
   "source": [
    "#### Bubble Plot"
   ]
  },
  {
   "cell_type": "code",
   "execution_count": null,
   "id": "ea2090ca-9e51-42e9-bbbd-6b0cd1940960",
   "metadata": {
    "vscode": {
     "languageId": "r"
    }
   },
   "outputs": [],
   "source": [
    "highlighted_terms <- c(\"Major Depressive Disorder\",\n",
    "                       \"Unipolar Depression\",\n",
    "                       \"Bipolar Disorder\")\n",
    "\n",
    "disgenet_results <- list(\n",
    "  disgenet_ee.lng.eelng.s23,\n",
    "  disgenet_lng.eelng.s23,\n",
    "  disgenet_ee,\n",
    "  disgenet_lng,\n",
    "  disgenet_eelng,\n",
    "  disgenet_s23\n",
    ")\n",
    "disgenet_bubbleplot <- get_enrichment_bubbleplot(disgenet_results, highlighted_terms)\n",
    "\n",
    "save_and_show_plot(\n",
    "  \"disgenet_bubbleplot\",\n",
    "  disgenet_bubbleplot,\n",
    "  plot_width = 120,\n",
    "  plot_height = 100\n",
    ")"
   ]
  },
  {
   "cell_type": "markdown",
   "id": "c055ceaf-c10b-4102-985d-85ac174cbd7c",
   "metadata": {},
   "source": [
    "## Session"
   ]
  },
  {
   "cell_type": "code",
   "execution_count": null,
   "id": "cc7bbe6a-9532-497d-a8fd-57294e48fb64",
   "metadata": {
    "vscode": {
     "languageId": "r"
    }
   },
   "outputs": [],
   "source": [
    "sessionInfo()"
   ]
  }
 ],
 "metadata": {
  "kernelspec": {
   "display_name": "R",
   "language": "R",
   "name": "ir"
  },
  "language_info": {
   "codemirror_mode": "r",
   "file_extension": ".r",
   "mimetype": "text/x-r-source",
   "name": "R",
   "pygments_lexer": "r",
   "version": "4.5.0"
  }
 },
 "nbformat": 4,
 "nbformat_minor": 5
}
